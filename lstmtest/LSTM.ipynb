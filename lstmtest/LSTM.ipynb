{
 "cells": [
  {
   "cell_type": "markdown",
   "metadata": {
    "papermill": {
     "duration": 0.019858,
     "end_time": "2021-03-12T15:10:49.820801",
     "exception": false,
     "start_time": "2021-03-12T15:10:49.800943",
     "status": "completed"
    },
    "tags": []
   },
   "source": [
    "# Imports"
   ]
  },
  {
   "cell_type": "code",
   "execution_count": 3,
   "metadata": {
    "_cell_guid": "b1076dfc-b9ad-4769-8c92-a6c4dae69d19",
    "_uuid": "8f2839f25d086af736a60e9eeb907d3b93b6e0e5",
    "execution": {
     "iopub.execute_input": "2021-03-12T15:10:49.873808Z",
     "iopub.status.busy": "2021-03-12T15:10:49.871732Z",
     "iopub.status.idle": "2021-03-12T15:10:49.874482Z",
     "shell.execute_reply": "2021-03-12T15:10:49.874956Z"
    },
    "papermill": {
     "duration": 0.034189,
     "end_time": "2021-03-12T15:10:49.875229",
     "exception": false,
     "start_time": "2021-03-12T15:10:49.841040",
     "status": "completed"
    },
    "tags": []
   },
   "outputs": [
    {
     "output_type": "stream",
     "name": "stdout",
     "text": [
      "Done!\n"
     ]
    }
   ],
   "source": [
    "# This Python 3 environment comes with many helpful analytics libraries installed\n",
    "# It is defined by the kaggle/python Docker image: https://github.com/kaggle/docker-python\n",
    "# For example, here's several helpful packages to load\n",
    "\n",
    "import numpy as np # linear algebra\n",
    "import pandas as pd # data processing, CSV file I/O (e.g. pd.read_csv)\n",
    "import zipfile as zf\n",
    "import re\n",
    "import random\n",
    "import math\n",
    "import matplotlib.pyplot as plt\n",
    "%matplotlib inline\n",
    "print(\"Done!\")"
   ]
  },
  {
   "cell_type": "code",
   "execution_count": 40,
   "metadata": {
    "execution": {
     "iopub.execute_input": "2021-03-12T15:10:49.925977Z",
     "iopub.status.busy": "2021-03-12T15:10:49.925133Z",
     "iopub.status.idle": "2021-03-12T15:11:07.461771Z",
     "shell.execute_reply": "2021-03-12T15:11:07.461212Z"
    },
    "papermill": {
     "duration": 17.563821,
     "end_time": "2021-03-12T15:11:07.461904",
     "exception": false,
     "start_time": "2021-03-12T15:10:49.898083",
     "status": "completed"
    },
    "tags": []
   },
   "outputs": [
    {
     "output_type": "stream",
     "name": "stdout",
     "text": [
      "Requirement already satisfied: bert-for-tf2 in /usr/local/lib/python3.9/site-packages (0.14.9)\n",
      "Requirement already satisfied: py-params>=0.9.6 in /usr/local/lib/python3.9/site-packages (from bert-for-tf2) (0.10.2)\n",
      "Requirement already satisfied: params-flow>=0.8.0 in /usr/local/lib/python3.9/site-packages (from bert-for-tf2) (0.8.2)\n",
      "Requirement already satisfied: numpy in /usr/local/lib/python3.9/site-packages (from params-flow>=0.8.0->bert-for-tf2) (1.20.2)\n",
      "Requirement already satisfied: tqdm in /usr/local/lib/python3.9/site-packages (from params-flow>=0.8.0->bert-for-tf2) (4.59.0)\n",
      "Requirement already satisfied: sentencepiece in /usr/local/lib/python3.9/site-packages (0.1.95)\n"
     ]
    }
   ],
   "source": [
    "!pip install bert-for-tf2\n",
    "!pip install sentencepiece"
   ]
  },
  {
   "cell_type": "code",
   "execution_count": 47,
   "metadata": {
    "execution": {
     "iopub.execute_input": "2021-03-12T15:11:07.519084Z",
     "iopub.status.busy": "2021-03-12T15:11:07.518296Z",
     "iopub.status.idle": "2021-03-12T15:11:14.157707Z",
     "shell.execute_reply": "2021-03-12T15:11:14.156548Z"
    },
    "papermill": {
     "duration": 6.669551,
     "end_time": "2021-03-12T15:11:14.157847",
     "exception": false,
     "start_time": "2021-03-12T15:11:07.488296",
     "status": "completed"
    },
    "tags": []
   },
   "outputs": [],
   "source": [
    "try:\n",
    "    %tensorflow_version 2.x\n",
    "except Exception:\n",
    "    pass\n",
    "import tensorflow as tf\n",
    "\n",
    "import tensorflow_hub as hub\n",
    "\n",
    "from tensorflow.keras import layers\n",
    "from tensorflow.keras.models import load_model\n",
    "import bert\n",
    "from bert import tokenization\n",
    "from transformers import AutoTokenizer"
   ]
  },
  {
   "cell_type": "code",
   "execution_count": 19,
   "metadata": {
    "execution": {
     "iopub.execute_input": "2021-03-12T15:11:14.211047Z",
     "iopub.status.busy": "2021-03-12T15:11:14.210215Z",
     "iopub.status.idle": "2021-03-12T15:11:14.215240Z",
     "shell.execute_reply": "2021-03-12T15:11:14.215784Z"
    },
    "papermill": {
     "duration": 0.033866,
     "end_time": "2021-03-12T15:11:14.215959",
     "exception": false,
     "start_time": "2021-03-12T15:11:14.182093",
     "status": "completed"
    },
    "tags": []
   },
   "outputs": [
    {
     "output_type": "stream",
     "name": "stdout",
     "text": [
      "input/test.csv.zip\ninput/test_labels.csv.zip\ninput/train.csv.zip\ninput/sample_submission.csv.zip\n"
     ]
    }
   ],
   "source": [
    "\n",
    "# Input data files are available in the read-only \"../input/\" directory\n",
    "# For example, running this (by clicking run or pressing Shift+Enter) will list all files under the input directory\n",
    "\n",
    "import os\n",
    "for dirname, _, filenames in os.walk('input'):\n",
    "    for filename in filenames:\n",
    "        print(os.path.join(dirname, filename))\n",
    "\n",
    "# You can write up to 20GB to the current directory (/kaggle/working/) that gets preserved as output when you create a version using \"Save & Run All\" \n",
    "# You can also write temporary files to /kaggle/temp/, but they won't be saved outside of the current session"
   ]
  },
  {
   "cell_type": "code",
   "execution_count": 23,
   "metadata": {
    "execution": {
     "iopub.execute_input": "2021-03-12T15:11:14.268635Z",
     "iopub.status.busy": "2021-03-12T15:11:14.267863Z",
     "iopub.status.idle": "2021-03-12T15:11:17.980950Z",
     "shell.execute_reply": "2021-03-12T15:11:17.980202Z"
    },
    "papermill": {
     "duration": 3.740903,
     "end_time": "2021-03-12T15:11:17.981092",
     "exception": false,
     "start_time": "2021-03-12T15:11:14.240189",
     "status": "completed"
    },
    "tags": []
   },
   "outputs": [],
   "source": [
    "train = pd.read_csv('input/train.csv.zip')\n",
    "test_data = pd.read_csv('input/test.csv.zip')\n",
    "test_labels = pd.read_csv('input/test_labels.csv.zip')"
   ]
  },
  {
   "cell_type": "code",
   "execution_count": 26,
   "metadata": {
    "execution": {
     "iopub.execute_input": "2021-03-12T15:11:18.045924Z",
     "iopub.status.busy": "2021-03-12T15:11:18.044952Z",
     "iopub.status.idle": "2021-03-12T15:11:18.056290Z",
     "shell.execute_reply": "2021-03-12T15:11:18.056726Z"
    },
    "papermill": {
     "duration": 0.050145,
     "end_time": "2021-03-12T15:11:18.056860",
     "exception": false,
     "start_time": "2021-03-12T15:11:18.006715",
     "status": "completed"
    },
    "tags": []
   },
   "outputs": [
    {
     "output_type": "execute_result",
     "data": {
      "text/plain": [
       "                      id                                       comment_text  \\\n",
       "0       0000997932d777bf  Explanation\\nWhy the edits made under my usern...   \n",
       "1       000103f0d9cfb60f  D'aww! He matches this background colour I'm s...   \n",
       "2       000113f07ec002fd  Hey man, I'm really not trying to edit war. It...   \n",
       "3       0001b41b1c6bb37e  \"\\nMore\\nI can't make any real suggestions on ...   \n",
       "4       0001d958c54c6e35  You, sir, are my hero. Any chance you remember...   \n",
       "...                  ...                                                ...   \n",
       "159566  ffe987279560d7ff  \":::::And for the second time of asking, when ...   \n",
       "159567  ffea4adeee384e90  You should be ashamed of yourself \\n\\nThat is ...   \n",
       "159568  ffee36eab5c267c9  Spitzer \\n\\nUmm, theres no actual article for ...   \n",
       "159569  fff125370e4aaaf3  And it looks like it was actually you who put ...   \n",
       "159570  fff46fc426af1f9a  \"\\nAnd ... I really don't think you understand...   \n",
       "\n",
       "        toxic  severe_toxic  obscene  threat  insult  identity_hate  \n",
       "0           0             0        0       0       0              0  \n",
       "1           0             0        0       0       0              0  \n",
       "2           0             0        0       0       0              0  \n",
       "3           0             0        0       0       0              0  \n",
       "4           0             0        0       0       0              0  \n",
       "...       ...           ...      ...     ...     ...            ...  \n",
       "159566      0             0        0       0       0              0  \n",
       "159567      0             0        0       0       0              0  \n",
       "159568      0             0        0       0       0              0  \n",
       "159569      0             0        0       0       0              0  \n",
       "159570      0             0        0       0       0              0  \n",
       "\n",
       "[159571 rows x 8 columns]"
      ],
      "text/html": "<div>\n<style scoped>\n    .dataframe tbody tr th:only-of-type {\n        vertical-align: middle;\n    }\n\n    .dataframe tbody tr th {\n        vertical-align: top;\n    }\n\n    .dataframe thead th {\n        text-align: right;\n    }\n</style>\n<table border=\"1\" class=\"dataframe\">\n  <thead>\n    <tr style=\"text-align: right;\">\n      <th></th>\n      <th>id</th>\n      <th>comment_text</th>\n      <th>toxic</th>\n      <th>severe_toxic</th>\n      <th>obscene</th>\n      <th>threat</th>\n      <th>insult</th>\n      <th>identity_hate</th>\n    </tr>\n  </thead>\n  <tbody>\n    <tr>\n      <th>0</th>\n      <td>0000997932d777bf</td>\n      <td>Explanation\\nWhy the edits made under my usern...</td>\n      <td>0</td>\n      <td>0</td>\n      <td>0</td>\n      <td>0</td>\n      <td>0</td>\n      <td>0</td>\n    </tr>\n    <tr>\n      <th>1</th>\n      <td>000103f0d9cfb60f</td>\n      <td>D'aww! He matches this background colour I'm s...</td>\n      <td>0</td>\n      <td>0</td>\n      <td>0</td>\n      <td>0</td>\n      <td>0</td>\n      <td>0</td>\n    </tr>\n    <tr>\n      <th>2</th>\n      <td>000113f07ec002fd</td>\n      <td>Hey man, I'm really not trying to edit war. It...</td>\n      <td>0</td>\n      <td>0</td>\n      <td>0</td>\n      <td>0</td>\n      <td>0</td>\n      <td>0</td>\n    </tr>\n    <tr>\n      <th>3</th>\n      <td>0001b41b1c6bb37e</td>\n      <td>\"\\nMore\\nI can't make any real suggestions on ...</td>\n      <td>0</td>\n      <td>0</td>\n      <td>0</td>\n      <td>0</td>\n      <td>0</td>\n      <td>0</td>\n    </tr>\n    <tr>\n      <th>4</th>\n      <td>0001d958c54c6e35</td>\n      <td>You, sir, are my hero. Any chance you remember...</td>\n      <td>0</td>\n      <td>0</td>\n      <td>0</td>\n      <td>0</td>\n      <td>0</td>\n      <td>0</td>\n    </tr>\n    <tr>\n      <th>...</th>\n      <td>...</td>\n      <td>...</td>\n      <td>...</td>\n      <td>...</td>\n      <td>...</td>\n      <td>...</td>\n      <td>...</td>\n      <td>...</td>\n    </tr>\n    <tr>\n      <th>159566</th>\n      <td>ffe987279560d7ff</td>\n      <td>\":::::And for the second time of asking, when ...</td>\n      <td>0</td>\n      <td>0</td>\n      <td>0</td>\n      <td>0</td>\n      <td>0</td>\n      <td>0</td>\n    </tr>\n    <tr>\n      <th>159567</th>\n      <td>ffea4adeee384e90</td>\n      <td>You should be ashamed of yourself \\n\\nThat is ...</td>\n      <td>0</td>\n      <td>0</td>\n      <td>0</td>\n      <td>0</td>\n      <td>0</td>\n      <td>0</td>\n    </tr>\n    <tr>\n      <th>159568</th>\n      <td>ffee36eab5c267c9</td>\n      <td>Spitzer \\n\\nUmm, theres no actual article for ...</td>\n      <td>0</td>\n      <td>0</td>\n      <td>0</td>\n      <td>0</td>\n      <td>0</td>\n      <td>0</td>\n    </tr>\n    <tr>\n      <th>159569</th>\n      <td>fff125370e4aaaf3</td>\n      <td>And it looks like it was actually you who put ...</td>\n      <td>0</td>\n      <td>0</td>\n      <td>0</td>\n      <td>0</td>\n      <td>0</td>\n      <td>0</td>\n    </tr>\n    <tr>\n      <th>159570</th>\n      <td>fff46fc426af1f9a</td>\n      <td>\"\\nAnd ... I really don't think you understand...</td>\n      <td>0</td>\n      <td>0</td>\n      <td>0</td>\n      <td>0</td>\n      <td>0</td>\n      <td>0</td>\n    </tr>\n  </tbody>\n</table>\n<p>159571 rows × 8 columns</p>\n</div>"
     },
     "metadata": {},
     "execution_count": 26
    }
   ],
   "source": [
    "train"
   ]
  },
  {
   "cell_type": "code",
   "execution_count": 27,
   "metadata": {
    "execution": {
     "iopub.execute_input": "2021-03-12T15:11:18.146752Z",
     "iopub.status.busy": "2021-03-12T15:11:18.145892Z",
     "iopub.status.idle": "2021-03-12T15:11:18.160082Z",
     "shell.execute_reply": "2021-03-12T15:11:18.159632Z"
    },
    "papermill": {
     "duration": 0.078463,
     "end_time": "2021-03-12T15:11:18.160198",
     "exception": false,
     "start_time": "2021-03-12T15:11:18.081735",
     "status": "completed"
    },
    "tags": []
   },
   "outputs": [
    {
     "output_type": "stream",
     "name": "stdout",
     "text": [
      "<class 'pandas.core.frame.DataFrame'>\nRangeIndex: 159571 entries, 0 to 159570\nData columns (total 8 columns):\n #   Column         Non-Null Count   Dtype \n---  ------         --------------   ----- \n 0   id             159571 non-null  object\n 1   comment_text   159571 non-null  object\n 2   toxic          159571 non-null  int64 \n 3   severe_toxic   159571 non-null  int64 \n 4   obscene        159571 non-null  int64 \n 5   threat         159571 non-null  int64 \n 6   insult         159571 non-null  int64 \n 7   identity_hate  159571 non-null  int64 \ndtypes: int64(6), object(2)\nmemory usage: 9.7+ MB\n"
     ]
    }
   ],
   "source": [
    "train.info()"
   ]
  },
  {
   "cell_type": "code",
   "execution_count": 28,
   "metadata": {
    "execution": {
     "iopub.execute_input": "2021-03-12T15:11:18.219337Z",
     "iopub.status.busy": "2021-03-12T15:11:18.218844Z",
     "iopub.status.idle": "2021-03-12T15:11:18.250855Z",
     "shell.execute_reply": "2021-03-12T15:11:18.250198Z"
    },
    "papermill": {
     "duration": 0.065267,
     "end_time": "2021-03-12T15:11:18.250992",
     "exception": false,
     "start_time": "2021-03-12T15:11:18.185725",
     "status": "completed"
    },
    "tags": []
   },
   "outputs": [],
   "source": [
    "column_list = [f for f in train.columns if train.dtypes[f] != 'object']\n",
    "df = pd.DataFrame(columns=column_list)\n",
    "for col in column_list:\n",
    "    df.loc[0,col] = train[train[col] == 1][col].sum()\n",
    "df['non_hate'] = train.shape[0] - df.sum(axis=1)    "
   ]
  },
  {
   "cell_type": "code",
   "execution_count": 29,
   "metadata": {
    "execution": {
     "iopub.execute_input": "2021-03-12T15:11:18.321807Z",
     "iopub.status.busy": "2021-03-12T15:11:18.319888Z",
     "iopub.status.idle": "2021-03-12T15:11:18.522918Z",
     "shell.execute_reply": "2021-03-12T15:11:18.522485Z"
    },
    "papermill": {
     "duration": 0.246764,
     "end_time": "2021-03-12T15:11:18.523033",
     "exception": false,
     "start_time": "2021-03-12T15:11:18.276269",
     "status": "completed"
    },
    "tags": []
   },
   "outputs": [
    {
     "output_type": "display_data",
     "data": {
      "text/plain": "<Figure size 864x720 with 1 Axes>",
      "image/svg+xml": "<?xml version=\"1.0\" encoding=\"utf-8\" standalone=\"no\"?>\n<!DOCTYPE svg PUBLIC \"-//W3C//DTD SVG 1.1//EN\"\n  \"http://www.w3.org/Graphics/SVG/1.1/DTD/svg11.dtd\">\n<!-- Created with matplotlib (https://matplotlib.org/) -->\n<svg height=\"574.637812pt\" version=\"1.1\" viewBox=\"0 0 558 574.637812\" width=\"558pt\" xmlns=\"http://www.w3.org/2000/svg\" xmlns:xlink=\"http://www.w3.org/1999/xlink\">\n <metadata>\n  <rdf:RDF xmlns:cc=\"http://creativecommons.org/ns#\" xmlns:dc=\"http://purl.org/dc/elements/1.1/\" xmlns:rdf=\"http://www.w3.org/1999/02/22-rdf-syntax-ns#\">\n   <cc:Work>\n    <dc:type rdf:resource=\"http://purl.org/dc/dcmitype/StillImage\"/>\n    <dc:date>2021-03-30T09:59:47.513295</dc:date>\n    <dc:format>image/svg+xml</dc:format>\n    <dc:creator>\n     <cc:Agent>\n      <dc:title>Matplotlib v3.3.3, https://matplotlib.org/</dc:title>\n     </cc:Agent>\n    </dc:creator>\n   </cc:Work>\n  </rdf:RDF>\n </metadata>\n <defs>\n  <style type=\"text/css\">*{stroke-linecap:butt;stroke-linejoin:round;}</style>\n </defs>\n <g id=\"figure_1\">\n  <g id=\"patch_1\">\n   <path d=\"M 0 574.637812 \nL 558 574.637812 \nL 558 0 \nL 0 0 \nz\n\" style=\"fill:none;\"/>\n  </g>\n  <g id=\"axes_1\">\n   <g id=\"patch_2\">\n    <path d=\"M 506.822864 292.413449 \nC 506.822864 270.548268 503.524808 248.80763 497.040142 227.926174 \nC 490.555475 207.044717 480.95807 187.260321 468.572232 169.241521 \nL 289.382864 292.413449 \nL 506.822864 292.413449 \nz\n\" style=\"fill:#1f77b4;\"/>\n   </g>\n   <g id=\"patch_3\">\n    <path d=\"M 466.95106 166.029026 \nC 465.661754 164.153356 464.343077 162.298045 462.995516 160.463779 \nC 461.647956 158.629514 460.271678 156.81652 458.867192 155.025467 \nL 287.761691 289.200954 \nL 466.95106 166.029026 \nz\n\" style=\"fill:#ff7f0e;\"/>\n   </g>\n   <g id=\"patch_4\">\n    <path d=\"M 457.431878 153.429607 \nC 449.987931 143.936813 441.766899 135.079937 432.853925 126.950708 \nC 423.94095 118.821479 414.366909 111.448057 404.230956 104.906807 \nL 286.326377 287.605093 \nL 457.431878 153.429607 \nz\n\" style=\"fill:#2ca02c;\"/>\n   </g>\n   <g id=\"patch_5\">\n    <path d=\"M 402.713582 103.749539 \nC 402.140472 103.379681 401.565625 103.012523 400.98906 102.648076 \nC 400.412495 102.283628 399.834218 101.921896 399.254249 101.56289 \nL 284.809003 286.447825 \nL 402.713582 103.749539 \nz\n\" style=\"fill:#d62728;\"/>\n   </g>\n   <g id=\"patch_6\">\n    <path d=\"M 397.670975 100.735712 \nC 388.108849 94.81668 378.101924 89.648378 367.740302 85.27734 \nC 357.378679 80.906303 346.693552 77.345689 335.78113 74.627559 \nL 283.225729 285.620647 \nL 397.670975 100.735712 \nz\n\" style=\"fill:#9467bd;\"/>\n   </g>\n   <g id=\"patch_7\">\n    <path d=\"M 333.890387 74.026427 \nC 331.94491 73.541836 329.992824 73.084176 328.034688 72.653578 \nC 326.076553 72.22298 324.112555 71.819486 322.143259 71.44321 \nL 281.334985 285.019516 \nL 333.890387 74.026427 \nz\n\" style=\"fill:#8c564b;\"/>\n   </g>\n   <g id=\"patch_8\">\n    <path d=\"M 311.430215 88.990324 \nC 289.579819 84.815344 267.217563 84.018159 245.125346 86.626645 \nC 223.033128 89.23513 201.471472 95.218525 181.194285 104.367619 \nC 160.917097 113.516713 142.163496 125.723616 125.589204 140.56151 \nC 109.014912 155.399405 94.815382 172.693316 83.487102 191.838559 \nC 72.158822 210.983802 63.835381 231.754607 58.80781 253.42472 \nC 53.780238 275.094833 52.107823 297.408708 53.849042 319.586139 \nC 55.59026 341.763569 60.724578 363.543027 69.072474 384.162991 \nC 77.42037 404.782954 88.883402 424.000263 103.060761 441.142979 \nC 117.238121 458.285696 133.962622 473.151666 152.649491 485.221098 \nC 171.33636 497.29053 191.765232 506.421096 213.221807 512.293543 \nC 234.678382 518.165991 256.909635 520.71107 279.138246 519.83979 \nC 301.366856 518.968511 323.330694 514.691148 344.261791 507.15726 \nC 365.192887 499.623373 384.844413 488.921804 402.529248 475.426735 \nC 420.214083 461.931667 435.723679 445.80224 448.515742 427.602421 \nC 461.307805 409.402603 471.231484 389.347015 477.939796 368.136903 \nC 484.648107 346.926792 488.061944 324.812278 488.061941 302.566598 \nL 270.621941 302.56663 \nL 311.430215 88.990324 \nz\n\" style=\"fill:#e377c2;\"/>\n   </g>\n   <g id=\"matplotlib.axis_1\"/>\n   <g id=\"matplotlib.axis_2\"/>\n   <g id=\"text_1\">\n    <!-- toxic -->\n    <g transform=\"translate(517.805869 224.236821)scale(0.1 -0.1)\">\n     <defs>\n      <path d=\"M 18.3125 70.21875 \nL 18.3125 54.6875 \nL 36.8125 54.6875 \nL 36.8125 47.703125 \nL 18.3125 47.703125 \nL 18.3125 18.015625 \nQ 18.3125 11.328125 20.140625 9.421875 \nQ 21.96875 7.515625 27.59375 7.515625 \nL 36.8125 7.515625 \nL 36.8125 0 \nL 27.59375 0 \nQ 17.1875 0 13.234375 3.875 \nQ 9.28125 7.765625 9.28125 18.015625 \nL 9.28125 47.703125 \nL 2.6875 47.703125 \nL 2.6875 54.6875 \nL 9.28125 54.6875 \nL 9.28125 70.21875 \nz\n\" id=\"DejaVuSans-116\"/>\n      <path d=\"M 30.609375 48.390625 \nQ 23.390625 48.390625 19.1875 42.75 \nQ 14.984375 37.109375 14.984375 27.296875 \nQ 14.984375 17.484375 19.15625 11.84375 \nQ 23.34375 6.203125 30.609375 6.203125 \nQ 37.796875 6.203125 41.984375 11.859375 \nQ 46.1875 17.53125 46.1875 27.296875 \nQ 46.1875 37.015625 41.984375 42.703125 \nQ 37.796875 48.390625 30.609375 48.390625 \nz\nM 30.609375 56 \nQ 42.328125 56 49.015625 48.375 \nQ 55.71875 40.765625 55.71875 27.296875 \nQ 55.71875 13.875 49.015625 6.21875 \nQ 42.328125 -1.421875 30.609375 -1.421875 \nQ 18.84375 -1.421875 12.171875 6.21875 \nQ 5.515625 13.875 5.515625 27.296875 \nQ 5.515625 40.765625 12.171875 48.375 \nQ 18.84375 56 30.609375 56 \nz\n\" id=\"DejaVuSans-111\"/>\n      <path d=\"M 54.890625 54.6875 \nL 35.109375 28.078125 \nL 55.90625 0 \nL 45.3125 0 \nL 29.390625 21.484375 \nL 13.484375 0 \nL 2.875 0 \nL 24.125 28.609375 \nL 4.6875 54.6875 \nL 15.28125 54.6875 \nL 29.78125 35.203125 \nL 44.28125 54.6875 \nz\n\" id=\"DejaVuSans-120\"/>\n      <path d=\"M 9.421875 54.6875 \nL 18.40625 54.6875 \nL 18.40625 0 \nL 9.421875 0 \nz\nM 9.421875 75.984375 \nL 18.40625 75.984375 \nL 18.40625 64.59375 \nL 9.421875 64.59375 \nz\n\" id=\"DejaVuSans-105\"/>\n      <path d=\"M 48.78125 52.59375 \nL 48.78125 44.1875 \nQ 44.96875 46.296875 41.140625 47.34375 \nQ 37.3125 48.390625 33.40625 48.390625 \nQ 24.65625 48.390625 19.8125 42.84375 \nQ 14.984375 37.3125 14.984375 27.296875 \nQ 14.984375 17.28125 19.8125 11.734375 \nQ 24.65625 6.203125 33.40625 6.203125 \nQ 37.3125 6.203125 41.140625 7.25 \nQ 44.96875 8.296875 48.78125 10.40625 \nL 48.78125 2.09375 \nQ 45.015625 0.34375 40.984375 -0.53125 \nQ 36.96875 -1.421875 32.421875 -1.421875 \nQ 20.0625 -1.421875 12.78125 6.34375 \nQ 5.515625 14.109375 5.515625 27.296875 \nQ 5.515625 40.671875 12.859375 48.328125 \nQ 20.21875 56 33.015625 56 \nQ 37.15625 56 41.109375 55.140625 \nQ 45.0625 54.296875 48.78125 52.59375 \nz\n\" id=\"DejaVuSans-99\"/>\n     </defs>\n     <use xlink:href=\"#DejaVuSans-116\"/>\n     <use x=\"39.208984\" xlink:href=\"#DejaVuSans-111\"/>\n     <use x=\"97.265625\" xlink:href=\"#DejaVuSans-120\"/>\n     <use x=\"156.445312\" xlink:href=\"#DejaVuSans-105\"/>\n     <use x=\"184.228516\" xlink:href=\"#DejaVuSans-99\"/>\n    </g>\n   </g>\n   <g id=\"text_2\">\n    <!-- 9.6 -->\n    <g transform=\"translate(385.25994 262.929186)scale(0.1 -0.1)\">\n     <defs>\n      <path d=\"M 10.984375 1.515625 \nL 10.984375 10.5 \nQ 14.703125 8.734375 18.5 7.8125 \nQ 22.3125 6.890625 25.984375 6.890625 \nQ 35.75 6.890625 40.890625 13.453125 \nQ 46.046875 20.015625 46.78125 33.40625 \nQ 43.953125 29.203125 39.59375 26.953125 \nQ 35.25 24.703125 29.984375 24.703125 \nQ 19.046875 24.703125 12.671875 31.3125 \nQ 6.296875 37.9375 6.296875 49.421875 \nQ 6.296875 60.640625 12.9375 67.421875 \nQ 19.578125 74.21875 30.609375 74.21875 \nQ 43.265625 74.21875 49.921875 64.515625 \nQ 56.59375 54.828125 56.59375 36.375 \nQ 56.59375 19.140625 48.40625 8.859375 \nQ 40.234375 -1.421875 26.421875 -1.421875 \nQ 22.703125 -1.421875 18.890625 -0.6875 \nQ 15.09375 0.046875 10.984375 1.515625 \nz\nM 30.609375 32.421875 \nQ 37.25 32.421875 41.125 36.953125 \nQ 45.015625 41.5 45.015625 49.421875 \nQ 45.015625 57.28125 41.125 61.84375 \nQ 37.25 66.40625 30.609375 66.40625 \nQ 23.96875 66.40625 20.09375 61.84375 \nQ 16.21875 57.28125 16.21875 49.421875 \nQ 16.21875 41.5 20.09375 36.953125 \nQ 23.96875 32.421875 30.609375 32.421875 \nz\n\" id=\"DejaVuSans-57\"/>\n      <path d=\"M 10.6875 12.40625 \nL 21 12.40625 \nL 21 0 \nL 10.6875 0 \nz\n\" id=\"DejaVuSans-46\"/>\n      <path d=\"M 33.015625 40.375 \nQ 26.375 40.375 22.484375 35.828125 \nQ 18.609375 31.296875 18.609375 23.390625 \nQ 18.609375 15.53125 22.484375 10.953125 \nQ 26.375 6.390625 33.015625 6.390625 \nQ 39.65625 6.390625 43.53125 10.953125 \nQ 47.40625 15.53125 47.40625 23.390625 \nQ 47.40625 31.296875 43.53125 35.828125 \nQ 39.65625 40.375 33.015625 40.375 \nz\nM 52.59375 71.296875 \nL 52.59375 62.3125 \nQ 48.875 64.0625 45.09375 64.984375 \nQ 41.3125 65.921875 37.59375 65.921875 \nQ 27.828125 65.921875 22.671875 59.328125 \nQ 17.53125 52.734375 16.796875 39.40625 \nQ 19.671875 43.65625 24.015625 45.921875 \nQ 28.375 48.1875 33.59375 48.1875 \nQ 44.578125 48.1875 50.953125 41.515625 \nQ 57.328125 34.859375 57.328125 23.390625 \nQ 57.328125 12.15625 50.6875 5.359375 \nQ 44.046875 -1.421875 33.015625 -1.421875 \nQ 20.359375 -1.421875 13.671875 8.265625 \nQ 6.984375 17.96875 6.984375 36.375 \nQ 6.984375 53.65625 15.1875 63.9375 \nQ 23.390625 74.21875 37.203125 74.21875 \nQ 40.921875 74.21875 44.703125 73.484375 \nQ 48.484375 72.75 52.59375 71.296875 \nz\n\" id=\"DejaVuSans-54\"/>\n     </defs>\n     <use xlink:href=\"#DejaVuSans-57\"/>\n     <use x=\"63.623047\" xlink:href=\"#DejaVuSans-46\"/>\n     <use x=\"95.410156\" xlink:href=\"#DejaVuSans-54\"/>\n    </g>\n   </g>\n   <g id=\"text_3\">\n    <!-- severe_toxic -->\n    <g transform=\"translate(480.518899 150.210374)scale(0.1 -0.1)\">\n     <defs>\n      <path d=\"M 44.28125 53.078125 \nL 44.28125 44.578125 \nQ 40.484375 46.53125 36.375 47.5 \nQ 32.28125 48.484375 27.875 48.484375 \nQ 21.1875 48.484375 17.84375 46.4375 \nQ 14.5 44.390625 14.5 40.28125 \nQ 14.5 37.15625 16.890625 35.375 \nQ 19.28125 33.59375 26.515625 31.984375 \nL 29.59375 31.296875 \nQ 39.15625 29.25 43.1875 25.515625 \nQ 47.21875 21.78125 47.21875 15.09375 \nQ 47.21875 7.46875 41.1875 3.015625 \nQ 35.15625 -1.421875 24.609375 -1.421875 \nQ 20.21875 -1.421875 15.453125 -0.5625 \nQ 10.6875 0.296875 5.421875 2 \nL 5.421875 11.28125 \nQ 10.40625 8.6875 15.234375 7.390625 \nQ 20.0625 6.109375 24.8125 6.109375 \nQ 31.15625 6.109375 34.5625 8.28125 \nQ 37.984375 10.453125 37.984375 14.40625 \nQ 37.984375 18.0625 35.515625 20.015625 \nQ 33.0625 21.96875 24.703125 23.78125 \nL 21.578125 24.515625 \nQ 13.234375 26.265625 9.515625 29.90625 \nQ 5.8125 33.546875 5.8125 39.890625 \nQ 5.8125 47.609375 11.28125 51.796875 \nQ 16.75 56 26.8125 56 \nQ 31.78125 56 36.171875 55.265625 \nQ 40.578125 54.546875 44.28125 53.078125 \nz\n\" id=\"DejaVuSans-115\"/>\n      <path d=\"M 56.203125 29.59375 \nL 56.203125 25.203125 \nL 14.890625 25.203125 \nQ 15.484375 15.921875 20.484375 11.0625 \nQ 25.484375 6.203125 34.421875 6.203125 \nQ 39.59375 6.203125 44.453125 7.46875 \nQ 49.3125 8.734375 54.109375 11.28125 \nL 54.109375 2.78125 \nQ 49.265625 0.734375 44.1875 -0.34375 \nQ 39.109375 -1.421875 33.890625 -1.421875 \nQ 20.796875 -1.421875 13.15625 6.1875 \nQ 5.515625 13.8125 5.515625 26.8125 \nQ 5.515625 40.234375 12.765625 48.109375 \nQ 20.015625 56 32.328125 56 \nQ 43.359375 56 49.78125 48.890625 \nQ 56.203125 41.796875 56.203125 29.59375 \nz\nM 47.21875 32.234375 \nQ 47.125 39.59375 43.09375 43.984375 \nQ 39.0625 48.390625 32.421875 48.390625 \nQ 24.90625 48.390625 20.390625 44.140625 \nQ 15.875 39.890625 15.1875 32.171875 \nz\n\" id=\"DejaVuSans-101\"/>\n      <path d=\"M 2.984375 54.6875 \nL 12.5 54.6875 \nL 29.59375 8.796875 \nL 46.6875 54.6875 \nL 56.203125 54.6875 \nL 35.6875 0 \nL 23.484375 0 \nz\n\" id=\"DejaVuSans-118\"/>\n      <path d=\"M 41.109375 46.296875 \nQ 39.59375 47.171875 37.8125 47.578125 \nQ 36.03125 48 33.890625 48 \nQ 26.265625 48 22.1875 43.046875 \nQ 18.109375 38.09375 18.109375 28.8125 \nL 18.109375 0 \nL 9.078125 0 \nL 9.078125 54.6875 \nL 18.109375 54.6875 \nL 18.109375 46.1875 \nQ 20.953125 51.171875 25.484375 53.578125 \nQ 30.03125 56 36.53125 56 \nQ 37.453125 56 38.578125 55.875 \nQ 39.703125 55.765625 41.0625 55.515625 \nz\n\" id=\"DejaVuSans-114\"/>\n      <path d=\"M 50.984375 -16.609375 \nL 50.984375 -23.578125 \nL -0.984375 -23.578125 \nL -0.984375 -16.609375 \nz\n\" id=\"DejaVuSans-95\"/>\n     </defs>\n     <use xlink:href=\"#DejaVuSans-115\"/>\n     <use x=\"52.099609\" xlink:href=\"#DejaVuSans-101\"/>\n     <use x=\"113.623047\" xlink:href=\"#DejaVuSans-118\"/>\n     <use x=\"172.802734\" xlink:href=\"#DejaVuSans-101\"/>\n     <use x=\"234.326172\" xlink:href=\"#DejaVuSans-114\"/>\n     <use x=\"273.189453\" xlink:href=\"#DejaVuSans-101\"/>\n     <use x=\"334.712891\" xlink:href=\"#DejaVuSans-95\"/>\n     <use x=\"384.712891\" xlink:href=\"#DejaVuSans-116\"/>\n     <use x=\"423.921875\" xlink:href=\"#DejaVuSans-111\"/>\n     <use x=\"481.978516\" xlink:href=\"#DejaVuSans-120\"/>\n     <use x=\"541.158203\" xlink:href=\"#DejaVuSans-105\"/>\n     <use x=\"568.941406\" xlink:href=\"#DejaVuSans-99\"/>\n    </g>\n   </g>\n   <g id=\"text_4\">\n    <!-- 1.0 -->\n    <g transform=\"translate(367.427041 227.591741)scale(0.1 -0.1)\">\n     <defs>\n      <path d=\"M 12.40625 8.296875 \nL 28.515625 8.296875 \nL 28.515625 63.921875 \nL 10.984375 60.40625 \nL 10.984375 69.390625 \nL 28.421875 72.90625 \nL 38.28125 72.90625 \nL 38.28125 8.296875 \nL 54.390625 8.296875 \nL 54.390625 0 \nL 12.40625 0 \nz\n\" id=\"DejaVuSans-49\"/>\n      <path d=\"M 31.78125 66.40625 \nQ 24.171875 66.40625 20.328125 58.90625 \nQ 16.5 51.421875 16.5 36.375 \nQ 16.5 21.390625 20.328125 13.890625 \nQ 24.171875 6.390625 31.78125 6.390625 \nQ 39.453125 6.390625 43.28125 13.890625 \nQ 47.125 21.390625 47.125 36.375 \nQ 47.125 51.421875 43.28125 58.90625 \nQ 39.453125 66.40625 31.78125 66.40625 \nz\nM 31.78125 74.21875 \nQ 44.046875 74.21875 50.515625 64.515625 \nQ 56.984375 54.828125 56.984375 36.375 \nQ 56.984375 17.96875 50.515625 8.265625 \nQ 44.046875 -1.421875 31.78125 -1.421875 \nQ 19.53125 -1.421875 13.0625 8.265625 \nQ 6.59375 17.96875 6.59375 36.375 \nQ 6.59375 54.828125 13.0625 64.515625 \nQ 19.53125 74.21875 31.78125 74.21875 \nz\n\" id=\"DejaVuSans-48\"/>\n     </defs>\n     <use xlink:href=\"#DejaVuSans-49\"/>\n     <use x=\"63.623047\" xlink:href=\"#DejaVuSans-46\"/>\n     <use x=\"95.410156\" xlink:href=\"#DejaVuSans-48\"/>\n    </g>\n   </g>\n   <g id=\"text_5\">\n    <!-- obscene -->\n    <g transform=\"translate(447.506679 113.644644)scale(0.1 -0.1)\">\n     <defs>\n      <path d=\"M 48.6875 27.296875 \nQ 48.6875 37.203125 44.609375 42.84375 \nQ 40.53125 48.484375 33.40625 48.484375 \nQ 26.265625 48.484375 22.1875 42.84375 \nQ 18.109375 37.203125 18.109375 27.296875 \nQ 18.109375 17.390625 22.1875 11.75 \nQ 26.265625 6.109375 33.40625 6.109375 \nQ 40.53125 6.109375 44.609375 11.75 \nQ 48.6875 17.390625 48.6875 27.296875 \nz\nM 18.109375 46.390625 \nQ 20.953125 51.265625 25.265625 53.625 \nQ 29.59375 56 35.59375 56 \nQ 45.5625 56 51.78125 48.09375 \nQ 58.015625 40.1875 58.015625 27.296875 \nQ 58.015625 14.40625 51.78125 6.484375 \nQ 45.5625 -1.421875 35.59375 -1.421875 \nQ 29.59375 -1.421875 25.265625 0.953125 \nQ 20.953125 3.328125 18.109375 8.203125 \nL 18.109375 0 \nL 9.078125 0 \nL 9.078125 75.984375 \nL 18.109375 75.984375 \nz\n\" id=\"DejaVuSans-98\"/>\n      <path d=\"M 54.890625 33.015625 \nL 54.890625 0 \nL 45.90625 0 \nL 45.90625 32.71875 \nQ 45.90625 40.484375 42.875 44.328125 \nQ 39.84375 48.1875 33.796875 48.1875 \nQ 26.515625 48.1875 22.3125 43.546875 \nQ 18.109375 38.921875 18.109375 30.90625 \nL 18.109375 0 \nL 9.078125 0 \nL 9.078125 54.6875 \nL 18.109375 54.6875 \nL 18.109375 46.1875 \nQ 21.34375 51.125 25.703125 53.5625 \nQ 30.078125 56 35.796875 56 \nQ 45.21875 56 50.046875 50.171875 \nQ 54.890625 44.34375 54.890625 33.015625 \nz\n\" id=\"DejaVuSans-110\"/>\n     </defs>\n     <use xlink:href=\"#DejaVuSans-111\"/>\n     <use x=\"61.181641\" xlink:href=\"#DejaVuSans-98\"/>\n     <use x=\"124.658203\" xlink:href=\"#DejaVuSans-115\"/>\n     <use x=\"176.757812\" xlink:href=\"#DejaVuSans-99\"/>\n     <use x=\"231.738281\" xlink:href=\"#DejaVuSans-101\"/>\n     <use x=\"293.261719\" xlink:href=\"#DejaVuSans-110\"/>\n     <use x=\"356.640625\" xlink:href=\"#DejaVuSans-101\"/>\n    </g>\n   </g>\n   <g id=\"text_6\">\n    <!-- 5.3 -->\n    <g transform=\"translate(351.638588 210.037276)scale(0.1 -0.1)\">\n     <defs>\n      <path d=\"M 10.796875 72.90625 \nL 49.515625 72.90625 \nL 49.515625 64.59375 \nL 19.828125 64.59375 \nL 19.828125 46.734375 \nQ 21.96875 47.46875 24.109375 47.828125 \nQ 26.265625 48.1875 28.421875 48.1875 \nQ 40.625 48.1875 47.75 41.5 \nQ 54.890625 34.8125 54.890625 23.390625 \nQ 54.890625 11.625 47.5625 5.09375 \nQ 40.234375 -1.421875 26.90625 -1.421875 \nQ 22.3125 -1.421875 17.546875 -0.640625 \nQ 12.796875 0.140625 7.71875 1.703125 \nL 7.71875 11.625 \nQ 12.109375 9.234375 16.796875 8.0625 \nQ 21.484375 6.890625 26.703125 6.890625 \nQ 35.15625 6.890625 40.078125 11.328125 \nQ 45.015625 15.765625 45.015625 23.390625 \nQ 45.015625 31 40.078125 35.4375 \nQ 35.15625 39.890625 26.703125 39.890625 \nQ 22.75 39.890625 18.8125 39.015625 \nQ 14.890625 38.140625 10.796875 36.28125 \nz\n\" id=\"DejaVuSans-53\"/>\n      <path d=\"M 40.578125 39.3125 \nQ 47.65625 37.796875 51.625 33 \nQ 55.609375 28.21875 55.609375 21.1875 \nQ 55.609375 10.40625 48.1875 4.484375 \nQ 40.765625 -1.421875 27.09375 -1.421875 \nQ 22.515625 -1.421875 17.65625 -0.515625 \nQ 12.796875 0.390625 7.625 2.203125 \nL 7.625 11.71875 \nQ 11.71875 9.328125 16.59375 8.109375 \nQ 21.484375 6.890625 26.8125 6.890625 \nQ 36.078125 6.890625 40.9375 10.546875 \nQ 45.796875 14.203125 45.796875 21.1875 \nQ 45.796875 27.640625 41.28125 31.265625 \nQ 36.765625 34.90625 28.71875 34.90625 \nL 20.21875 34.90625 \nL 20.21875 43.015625 \nL 29.109375 43.015625 \nQ 36.375 43.015625 40.234375 45.921875 \nQ 44.09375 48.828125 44.09375 54.296875 \nQ 44.09375 59.90625 40.109375 62.90625 \nQ 36.140625 65.921875 28.71875 65.921875 \nQ 24.65625 65.921875 20.015625 65.03125 \nQ 15.375 64.15625 9.8125 62.3125 \nL 9.8125 71.09375 \nQ 15.4375 72.65625 20.34375 73.4375 \nQ 25.25 74.21875 29.59375 74.21875 \nQ 40.828125 74.21875 47.359375 69.109375 \nQ 53.90625 64.015625 53.90625 55.328125 \nQ 53.90625 49.265625 50.4375 45.09375 \nQ 46.96875 40.921875 40.578125 39.3125 \nz\n\" id=\"DejaVuSans-51\"/>\n     </defs>\n     <use xlink:href=\"#DejaVuSans-53\"/>\n     <use x=\"63.623047\" xlink:href=\"#DejaVuSans-46\"/>\n     <use x=\"95.410156\" xlink:href=\"#DejaVuSans-51\"/>\n    </g>\n   </g>\n   <g id=\"text_7\">\n    <!-- threat -->\n    <g transform=\"translate(412.607066 87.027476)scale(0.1 -0.1)\">\n     <defs>\n      <path d=\"M 54.890625 33.015625 \nL 54.890625 0 \nL 45.90625 0 \nL 45.90625 32.71875 \nQ 45.90625 40.484375 42.875 44.328125 \nQ 39.84375 48.1875 33.796875 48.1875 \nQ 26.515625 48.1875 22.3125 43.546875 \nQ 18.109375 38.921875 18.109375 30.90625 \nL 18.109375 0 \nL 9.078125 0 \nL 9.078125 75.984375 \nL 18.109375 75.984375 \nL 18.109375 46.1875 \nQ 21.34375 51.125 25.703125 53.5625 \nQ 30.078125 56 35.796875 56 \nQ 45.21875 56 50.046875 50.171875 \nQ 54.890625 44.34375 54.890625 33.015625 \nz\n\" id=\"DejaVuSans-104\"/>\n      <path d=\"M 34.28125 27.484375 \nQ 23.390625 27.484375 19.1875 25 \nQ 14.984375 22.515625 14.984375 16.5 \nQ 14.984375 11.71875 18.140625 8.90625 \nQ 21.296875 6.109375 26.703125 6.109375 \nQ 34.1875 6.109375 38.703125 11.40625 \nQ 43.21875 16.703125 43.21875 25.484375 \nL 43.21875 27.484375 \nz\nM 52.203125 31.203125 \nL 52.203125 0 \nL 43.21875 0 \nL 43.21875 8.296875 \nQ 40.140625 3.328125 35.546875 0.953125 \nQ 30.953125 -1.421875 24.3125 -1.421875 \nQ 15.921875 -1.421875 10.953125 3.296875 \nQ 6 8.015625 6 15.921875 \nQ 6 25.140625 12.171875 29.828125 \nQ 18.359375 34.515625 30.609375 34.515625 \nL 43.21875 34.515625 \nL 43.21875 35.40625 \nQ 43.21875 41.609375 39.140625 45 \nQ 35.0625 48.390625 27.6875 48.390625 \nQ 23 48.390625 18.546875 47.265625 \nQ 14.109375 46.140625 10.015625 43.890625 \nL 10.015625 52.203125 \nQ 14.9375 54.109375 19.578125 55.046875 \nQ 24.21875 56 28.609375 56 \nQ 40.484375 56 46.34375 49.84375 \nQ 52.203125 43.703125 52.203125 31.203125 \nz\n\" id=\"DejaVuSans-97\"/>\n     </defs>\n     <use xlink:href=\"#DejaVuSans-116\"/>\n     <use x=\"39.208984\" xlink:href=\"#DejaVuSans-104\"/>\n     <use x=\"102.587891\" xlink:href=\"#DejaVuSans-114\"/>\n     <use x=\"141.451172\" xlink:href=\"#DejaVuSans-101\"/>\n     <use x=\"202.974609\" xlink:href=\"#DejaVuSans-97\"/>\n     <use x=\"264.253906\" xlink:href=\"#DejaVuSans-116\"/>\n    </g>\n   </g>\n   <g id=\"text_8\">\n    <!-- 0.3 -->\n    <g transform=\"translate(334.947469 197.307325)scale(0.1 -0.1)\">\n     <use xlink:href=\"#DejaVuSans-48\"/>\n     <use x=\"63.623047\" xlink:href=\"#DejaVuSans-46\"/>\n     <use x=\"95.410156\" xlink:href=\"#DejaVuSans-51\"/>\n    </g>\n   </g>\n   <g id=\"text_9\">\n    <!-- insult -->\n    <g transform=\"translate(376.191759 68.002385)scale(0.1 -0.1)\">\n     <defs>\n      <path d=\"M 8.5 21.578125 \nL 8.5 54.6875 \nL 17.484375 54.6875 \nL 17.484375 21.921875 \nQ 17.484375 14.15625 20.5 10.265625 \nQ 23.53125 6.390625 29.59375 6.390625 \nQ 36.859375 6.390625 41.078125 11.03125 \nQ 45.3125 15.671875 45.3125 23.6875 \nL 45.3125 54.6875 \nL 54.296875 54.6875 \nL 54.296875 0 \nL 45.3125 0 \nL 45.3125 8.40625 \nQ 42.046875 3.421875 37.71875 1 \nQ 33.40625 -1.421875 27.6875 -1.421875 \nQ 18.265625 -1.421875 13.375 4.4375 \nQ 8.5 10.296875 8.5 21.578125 \nz\nM 31.109375 56 \nz\n\" id=\"DejaVuSans-117\"/>\n      <path d=\"M 9.421875 75.984375 \nL 18.40625 75.984375 \nL 18.40625 0 \nL 9.421875 0 \nz\n\" id=\"DejaVuSans-108\"/>\n     </defs>\n     <use xlink:href=\"#DejaVuSans-105\"/>\n     <use x=\"27.783203\" xlink:href=\"#DejaVuSans-110\"/>\n     <use x=\"91.162109\" xlink:href=\"#DejaVuSans-115\"/>\n     <use x=\"143.261719\" xlink:href=\"#DejaVuSans-117\"/>\n     <use x=\"206.640625\" xlink:href=\"#DejaVuSans-108\"/>\n     <use x=\"234.423828\" xlink:href=\"#DejaVuSans-116\"/>\n    </g>\n   </g>\n   <g id=\"text_10\">\n    <!-- 4.9 -->\n    <g transform=\"translate(317.531453 188.208369)scale(0.1 -0.1)\">\n     <defs>\n      <path d=\"M 37.796875 64.3125 \nL 12.890625 25.390625 \nL 37.796875 25.390625 \nz\nM 35.203125 72.90625 \nL 47.609375 72.90625 \nL 47.609375 25.390625 \nL 58.015625 25.390625 \nL 58.015625 17.1875 \nL 47.609375 17.1875 \nL 47.609375 0 \nL 37.796875 0 \nL 37.796875 17.1875 \nL 4.890625 17.1875 \nL 4.890625 26.703125 \nz\n\" id=\"DejaVuSans-52\"/>\n     </defs>\n     <use xlink:href=\"#DejaVuSans-52\"/>\n     <use x=\"63.623047\" xlink:href=\"#DejaVuSans-46\"/>\n     <use x=\"95.410156\" xlink:href=\"#DejaVuSans-57\"/>\n    </g>\n   </g>\n   <g id=\"text_11\">\n    <!-- identity_hate -->\n    <g transform=\"translate(332.704658 54.037297)scale(0.1 -0.1)\">\n     <defs>\n      <path d=\"M 45.40625 46.390625 \nL 45.40625 75.984375 \nL 54.390625 75.984375 \nL 54.390625 0 \nL 45.40625 0 \nL 45.40625 8.203125 \nQ 42.578125 3.328125 38.25 0.953125 \nQ 33.9375 -1.421875 27.875 -1.421875 \nQ 17.96875 -1.421875 11.734375 6.484375 \nQ 5.515625 14.40625 5.515625 27.296875 \nQ 5.515625 40.1875 11.734375 48.09375 \nQ 17.96875 56 27.875 56 \nQ 33.9375 56 38.25 53.625 \nQ 42.578125 51.265625 45.40625 46.390625 \nz\nM 14.796875 27.296875 \nQ 14.796875 17.390625 18.875 11.75 \nQ 22.953125 6.109375 30.078125 6.109375 \nQ 37.203125 6.109375 41.296875 11.75 \nQ 45.40625 17.390625 45.40625 27.296875 \nQ 45.40625 37.203125 41.296875 42.84375 \nQ 37.203125 48.484375 30.078125 48.484375 \nQ 22.953125 48.484375 18.875 42.84375 \nQ 14.796875 37.203125 14.796875 27.296875 \nz\n\" id=\"DejaVuSans-100\"/>\n      <path d=\"M 32.171875 -5.078125 \nQ 28.375 -14.84375 24.75 -17.8125 \nQ 21.140625 -20.796875 15.09375 -20.796875 \nL 7.90625 -20.796875 \nL 7.90625 -13.28125 \nL 13.1875 -13.28125 \nQ 16.890625 -13.28125 18.9375 -11.515625 \nQ 21 -9.765625 23.484375 -3.21875 \nL 25.09375 0.875 \nL 2.984375 54.6875 \nL 12.5 54.6875 \nL 29.59375 11.921875 \nL 46.6875 54.6875 \nL 56.203125 54.6875 \nz\n\" id=\"DejaVuSans-121\"/>\n     </defs>\n     <use xlink:href=\"#DejaVuSans-105\"/>\n     <use x=\"27.783203\" xlink:href=\"#DejaVuSans-100\"/>\n     <use x=\"91.259766\" xlink:href=\"#DejaVuSans-101\"/>\n     <use x=\"152.783203\" xlink:href=\"#DejaVuSans-110\"/>\n     <use x=\"216.162109\" xlink:href=\"#DejaVuSans-116\"/>\n     <use x=\"255.371094\" xlink:href=\"#DejaVuSans-105\"/>\n     <use x=\"283.154297\" xlink:href=\"#DejaVuSans-116\"/>\n     <use x=\"322.363281\" xlink:href=\"#DejaVuSans-121\"/>\n     <use x=\"381.542969\" xlink:href=\"#DejaVuSans-95\"/>\n     <use x=\"431.542969\" xlink:href=\"#DejaVuSans-104\"/>\n     <use x=\"494.921875\" xlink:href=\"#DejaVuSans-97\"/>\n     <use x=\"556.201172\" xlink:href=\"#DejaVuSans-116\"/>\n     <use x=\"595.410156\" xlink:href=\"#DejaVuSans-101\"/>\n    </g>\n   </g>\n   <g id=\"text_12\">\n    <!-- 0.9 -->\n    <g transform=\"translate(296.733274 181.595922)scale(0.1 -0.1)\">\n     <use xlink:href=\"#DejaVuSans-48\"/>\n     <use x=\"63.623047\" xlink:href=\"#DejaVuSans-46\"/>\n     <use x=\"95.410156\" xlink:href=\"#DejaVuSans-57\"/>\n    </g>\n   </g>\n   <g id=\"text_13\">\n    <!-- non_hate -->\n    <g transform=\"translate(39.971831 457.620927)scale(0.1 -0.1)\">\n     <use xlink:href=\"#DejaVuSans-110\"/>\n     <use x=\"63.378906\" xlink:href=\"#DejaVuSans-111\"/>\n     <use x=\"124.560547\" xlink:href=\"#DejaVuSans-110\"/>\n     <use x=\"187.939453\" xlink:href=\"#DejaVuSans-95\"/>\n     <use x=\"237.939453\" xlink:href=\"#DejaVuSans-104\"/>\n     <use x=\"301.318359\" xlink:href=\"#DejaVuSans-97\"/>\n     <use x=\"362.597656\" xlink:href=\"#DejaVuSans-116\"/>\n     <use x=\"401.806641\" xlink:href=\"#DejaVuSans-101\"/>\n    </g>\n   </g>\n   <g id=\"text_14\">\n    <!-- 78.0 -->\n    <g transform=\"translate(175.708539 374.61418)scale(0.1 -0.1)\">\n     <defs>\n      <path d=\"M 8.203125 72.90625 \nL 55.078125 72.90625 \nL 55.078125 68.703125 \nL 28.609375 0 \nL 18.3125 0 \nL 43.21875 64.59375 \nL 8.203125 64.59375 \nz\n\" id=\"DejaVuSans-55\"/>\n      <path d=\"M 31.78125 34.625 \nQ 24.75 34.625 20.71875 30.859375 \nQ 16.703125 27.09375 16.703125 20.515625 \nQ 16.703125 13.921875 20.71875 10.15625 \nQ 24.75 6.390625 31.78125 6.390625 \nQ 38.8125 6.390625 42.859375 10.171875 \nQ 46.921875 13.96875 46.921875 20.515625 \nQ 46.921875 27.09375 42.890625 30.859375 \nQ 38.875 34.625 31.78125 34.625 \nz\nM 21.921875 38.8125 \nQ 15.578125 40.375 12.03125 44.71875 \nQ 8.5 49.078125 8.5 55.328125 \nQ 8.5 64.0625 14.71875 69.140625 \nQ 20.953125 74.21875 31.78125 74.21875 \nQ 42.671875 74.21875 48.875 69.140625 \nQ 55.078125 64.0625 55.078125 55.328125 \nQ 55.078125 49.078125 51.53125 44.71875 \nQ 48 40.375 41.703125 38.8125 \nQ 48.828125 37.15625 52.796875 32.3125 \nQ 56.78125 27.484375 56.78125 20.515625 \nQ 56.78125 9.90625 50.3125 4.234375 \nQ 43.84375 -1.421875 31.78125 -1.421875 \nQ 19.734375 -1.421875 13.25 4.234375 \nQ 6.78125 9.90625 6.78125 20.515625 \nQ 6.78125 27.484375 10.78125 32.3125 \nQ 14.796875 37.15625 21.921875 38.8125 \nz\nM 18.3125 54.390625 \nQ 18.3125 48.734375 21.84375 45.5625 \nQ 25.390625 42.390625 31.78125 42.390625 \nQ 38.140625 42.390625 41.71875 45.5625 \nQ 45.3125 48.734375 45.3125 54.390625 \nQ 45.3125 60.0625 41.71875 63.234375 \nQ 38.140625 66.40625 31.78125 66.40625 \nQ 25.390625 66.40625 21.84375 63.234375 \nQ 18.3125 60.0625 18.3125 54.390625 \nz\n\" id=\"DejaVuSans-56\"/>\n     </defs>\n     <use xlink:href=\"#DejaVuSans-55\"/>\n     <use x=\"63.623047\" xlink:href=\"#DejaVuSans-56\"/>\n     <use x=\"127.246094\" xlink:href=\"#DejaVuSans-46\"/>\n     <use x=\"159.033203\" xlink:href=\"#DejaVuSans-48\"/>\n    </g>\n   </g>\n   <g id=\"text_15\">\n    <!-- Types of Toxic Comments -->\n    <g transform=\"translate(190.827344 17.837812)scale(0.14 -0.14)\">\n     <defs>\n      <path d=\"M -0.296875 72.90625 \nL 61.375 72.90625 \nL 61.375 64.59375 \nL 35.5 64.59375 \nL 35.5 0 \nL 25.59375 0 \nL 25.59375 64.59375 \nL -0.296875 64.59375 \nz\n\" id=\"DejaVuSans-84\"/>\n      <path d=\"M 18.109375 8.203125 \nL 18.109375 -20.796875 \nL 9.078125 -20.796875 \nL 9.078125 54.6875 \nL 18.109375 54.6875 \nL 18.109375 46.390625 \nQ 20.953125 51.265625 25.265625 53.625 \nQ 29.59375 56 35.59375 56 \nQ 45.5625 56 51.78125 48.09375 \nQ 58.015625 40.1875 58.015625 27.296875 \nQ 58.015625 14.40625 51.78125 6.484375 \nQ 45.5625 -1.421875 35.59375 -1.421875 \nQ 29.59375 -1.421875 25.265625 0.953125 \nQ 20.953125 3.328125 18.109375 8.203125 \nz\nM 48.6875 27.296875 \nQ 48.6875 37.203125 44.609375 42.84375 \nQ 40.53125 48.484375 33.40625 48.484375 \nQ 26.265625 48.484375 22.1875 42.84375 \nQ 18.109375 37.203125 18.109375 27.296875 \nQ 18.109375 17.390625 22.1875 11.75 \nQ 26.265625 6.109375 33.40625 6.109375 \nQ 40.53125 6.109375 44.609375 11.75 \nQ 48.6875 17.390625 48.6875 27.296875 \nz\n\" id=\"DejaVuSans-112\"/>\n      <path id=\"DejaVuSans-32\"/>\n      <path d=\"M 37.109375 75.984375 \nL 37.109375 68.5 \nL 28.515625 68.5 \nQ 23.6875 68.5 21.796875 66.546875 \nQ 19.921875 64.59375 19.921875 59.515625 \nL 19.921875 54.6875 \nL 34.71875 54.6875 \nL 34.71875 47.703125 \nL 19.921875 47.703125 \nL 19.921875 0 \nL 10.890625 0 \nL 10.890625 47.703125 \nL 2.296875 47.703125 \nL 2.296875 54.6875 \nL 10.890625 54.6875 \nL 10.890625 58.5 \nQ 10.890625 67.625 15.140625 71.796875 \nQ 19.390625 75.984375 28.609375 75.984375 \nz\n\" id=\"DejaVuSans-102\"/>\n      <path d=\"M 64.40625 67.28125 \nL 64.40625 56.890625 \nQ 59.421875 61.53125 53.78125 63.8125 \nQ 48.140625 66.109375 41.796875 66.109375 \nQ 29.296875 66.109375 22.65625 58.46875 \nQ 16.015625 50.828125 16.015625 36.375 \nQ 16.015625 21.96875 22.65625 14.328125 \nQ 29.296875 6.6875 41.796875 6.6875 \nQ 48.140625 6.6875 53.78125 8.984375 \nQ 59.421875 11.28125 64.40625 15.921875 \nL 64.40625 5.609375 \nQ 59.234375 2.09375 53.4375 0.328125 \nQ 47.65625 -1.421875 41.21875 -1.421875 \nQ 24.65625 -1.421875 15.125 8.703125 \nQ 5.609375 18.84375 5.609375 36.375 \nQ 5.609375 53.953125 15.125 64.078125 \nQ 24.65625 74.21875 41.21875 74.21875 \nQ 47.75 74.21875 53.53125 72.484375 \nQ 59.328125 70.75 64.40625 67.28125 \nz\n\" id=\"DejaVuSans-67\"/>\n      <path d=\"M 52 44.1875 \nQ 55.375 50.25 60.0625 53.125 \nQ 64.75 56 71.09375 56 \nQ 79.640625 56 84.28125 50.015625 \nQ 88.921875 44.046875 88.921875 33.015625 \nL 88.921875 0 \nL 79.890625 0 \nL 79.890625 32.71875 \nQ 79.890625 40.578125 77.09375 44.375 \nQ 74.3125 48.1875 68.609375 48.1875 \nQ 61.625 48.1875 57.5625 43.546875 \nQ 53.515625 38.921875 53.515625 30.90625 \nL 53.515625 0 \nL 44.484375 0 \nL 44.484375 32.71875 \nQ 44.484375 40.625 41.703125 44.40625 \nQ 38.921875 48.1875 33.109375 48.1875 \nQ 26.21875 48.1875 22.15625 43.53125 \nQ 18.109375 38.875 18.109375 30.90625 \nL 18.109375 0 \nL 9.078125 0 \nL 9.078125 54.6875 \nL 18.109375 54.6875 \nL 18.109375 46.1875 \nQ 21.1875 51.21875 25.484375 53.609375 \nQ 29.78125 56 35.6875 56 \nQ 41.65625 56 45.828125 52.96875 \nQ 50 49.953125 52 44.1875 \nz\n\" id=\"DejaVuSans-109\"/>\n     </defs>\n     <use xlink:href=\"#DejaVuSans-84\"/>\n     <use x=\"45.458984\" xlink:href=\"#DejaVuSans-121\"/>\n     <use x=\"104.638672\" xlink:href=\"#DejaVuSans-112\"/>\n     <use x=\"168.115234\" xlink:href=\"#DejaVuSans-101\"/>\n     <use x=\"229.638672\" xlink:href=\"#DejaVuSans-115\"/>\n     <use x=\"281.738281\" xlink:href=\"#DejaVuSans-32\"/>\n     <use x=\"313.525391\" xlink:href=\"#DejaVuSans-111\"/>\n     <use x=\"374.707031\" xlink:href=\"#DejaVuSans-102\"/>\n     <use x=\"409.912109\" xlink:href=\"#DejaVuSans-32\"/>\n     <use x=\"441.699219\" xlink:href=\"#DejaVuSans-84\"/>\n     <use x=\"485.783203\" xlink:href=\"#DejaVuSans-111\"/>\n     <use x=\"543.839844\" xlink:href=\"#DejaVuSans-120\"/>\n     <use x=\"603.019531\" xlink:href=\"#DejaVuSans-105\"/>\n     <use x=\"630.802734\" xlink:href=\"#DejaVuSans-99\"/>\n     <use x=\"685.783203\" xlink:href=\"#DejaVuSans-32\"/>\n     <use x=\"717.570312\" xlink:href=\"#DejaVuSans-67\"/>\n     <use x=\"787.394531\" xlink:href=\"#DejaVuSans-111\"/>\n     <use x=\"848.576172\" xlink:href=\"#DejaVuSans-109\"/>\n     <use x=\"945.988281\" xlink:href=\"#DejaVuSans-109\"/>\n     <use x=\"1043.400391\" xlink:href=\"#DejaVuSans-101\"/>\n     <use x=\"1104.923828\" xlink:href=\"#DejaVuSans-110\"/>\n     <use x=\"1168.302734\" xlink:href=\"#DejaVuSans-116\"/>\n     <use x=\"1207.511719\" xlink:href=\"#DejaVuSans-115\"/>\n    </g>\n   </g>\n  </g>\n </g>\n</svg>\n",
      "image/png": "[encoded data removed]"
     },
     "metadata": {}
    }
   ],
   "source": [
    "pie, ax = plt.subplots(figsize=[12,10])\n",
    "labels = df.keys()\n",
    "plt.pie(x=df.values[0], autopct=\"%.1f\", explode=[0.05]*len(df.values[0]), labels=labels, pctdistance=0.5)\n",
    "plt.title(\"Types of Toxic Comments\", fontsize=14);\n",
    "pie.savefig(\"ToxicCommentsChart.png\")"
   ]
  },
  {
   "cell_type": "code",
   "execution_count": 30,
   "metadata": {
    "execution": {
     "iopub.execute_input": "2021-03-12T15:11:18.584268Z",
     "iopub.status.busy": "2021-03-12T15:11:18.583764Z",
     "iopub.status.idle": "2021-03-12T15:11:18.589340Z",
     "shell.execute_reply": "2021-03-12T15:11:18.588955Z"
    },
    "papermill": {
     "duration": 0.039549,
     "end_time": "2021-03-12T15:11:18.589504",
     "exception": false,
     "start_time": "2021-03-12T15:11:18.549955",
     "status": "completed"
    },
    "tags": []
   },
   "outputs": [
    {
     "output_type": "execute_result",
     "data": {
      "text/plain": [
       "                 id                                       comment_text\n",
       "0  00001cee341fdb12  Yo bitch Ja Rule is more succesful then you'll...\n",
       "1  0000247867823ef7  == From RfC == \\n\\n The title is fine as it is...\n",
       "2  00013b17ad220c46  \" \\n\\n == Sources == \\n\\n * Zawe Ashton on Lap...\n",
       "3  00017563c3f7919a  :If you have a look back at the source, the in...\n",
       "4  00017695ad8997eb          I don't anonymously edit articles at all."
      ],
      "text/html": "<div>\n<style scoped>\n    .dataframe tbody tr th:only-of-type {\n        vertical-align: middle;\n    }\n\n    .dataframe tbody tr th {\n        vertical-align: top;\n    }\n\n    .dataframe thead th {\n        text-align: right;\n    }\n</style>\n<table border=\"1\" class=\"dataframe\">\n  <thead>\n    <tr style=\"text-align: right;\">\n      <th></th>\n      <th>id</th>\n      <th>comment_text</th>\n    </tr>\n  </thead>\n  <tbody>\n    <tr>\n      <th>0</th>\n      <td>00001cee341fdb12</td>\n      <td>Yo bitch Ja Rule is more succesful then you'll...</td>\n    </tr>\n    <tr>\n      <th>1</th>\n      <td>0000247867823ef7</td>\n      <td>== From RfC == \\n\\n The title is fine as it is...</td>\n    </tr>\n    <tr>\n      <th>2</th>\n      <td>00013b17ad220c46</td>\n      <td>\" \\n\\n == Sources == \\n\\n * Zawe Ashton on Lap...</td>\n    </tr>\n    <tr>\n      <th>3</th>\n      <td>00017563c3f7919a</td>\n      <td>:If you have a look back at the source, the in...</td>\n    </tr>\n    <tr>\n      <th>4</th>\n      <td>00017695ad8997eb</td>\n      <td>I don't anonymously edit articles at all.</td>\n    </tr>\n  </tbody>\n</table>\n</div>"
     },
     "metadata": {},
     "execution_count": 30
    }
   ],
   "source": [
    "test_data.head()"
   ]
  },
  {
   "cell_type": "code",
   "execution_count": 31,
   "metadata": {
    "execution": {
     "iopub.execute_input": "2021-03-12T15:11:18.653349Z",
     "iopub.status.busy": "2021-03-12T15:11:18.652834Z",
     "iopub.status.idle": "2021-03-12T15:11:18.658851Z",
     "shell.execute_reply": "2021-03-12T15:11:18.658411Z"
    },
    "papermill": {
     "duration": 0.042026,
     "end_time": "2021-03-12T15:11:18.658958",
     "exception": false,
     "start_time": "2021-03-12T15:11:18.616932",
     "status": "completed"
    },
    "tags": []
   },
   "outputs": [
    {
     "output_type": "execute_result",
     "data": {
      "text/plain": [
       "                 id  toxic  severe_toxic  obscene  threat  insult  \\\n",
       "0  00001cee341fdb12     -1            -1       -1      -1      -1   \n",
       "1  0000247867823ef7     -1            -1       -1      -1      -1   \n",
       "2  00013b17ad220c46     -1            -1       -1      -1      -1   \n",
       "3  00017563c3f7919a     -1            -1       -1      -1      -1   \n",
       "4  00017695ad8997eb     -1            -1       -1      -1      -1   \n",
       "\n",
       "   identity_hate  \n",
       "0             -1  \n",
       "1             -1  \n",
       "2             -1  \n",
       "3             -1  \n",
       "4             -1  "
      ],
      "text/html": "<div>\n<style scoped>\n    .dataframe tbody tr th:only-of-type {\n        vertical-align: middle;\n    }\n\n    .dataframe tbody tr th {\n        vertical-align: top;\n    }\n\n    .dataframe thead th {\n        text-align: right;\n    }\n</style>\n<table border=\"1\" class=\"dataframe\">\n  <thead>\n    <tr style=\"text-align: right;\">\n      <th></th>\n      <th>id</th>\n      <th>toxic</th>\n      <th>severe_toxic</th>\n      <th>obscene</th>\n      <th>threat</th>\n      <th>insult</th>\n      <th>identity_hate</th>\n    </tr>\n  </thead>\n  <tbody>\n    <tr>\n      <th>0</th>\n      <td>00001cee341fdb12</td>\n      <td>-1</td>\n      <td>-1</td>\n      <td>-1</td>\n      <td>-1</td>\n      <td>-1</td>\n      <td>-1</td>\n    </tr>\n    <tr>\n      <th>1</th>\n      <td>0000247867823ef7</td>\n      <td>-1</td>\n      <td>-1</td>\n      <td>-1</td>\n      <td>-1</td>\n      <td>-1</td>\n      <td>-1</td>\n    </tr>\n    <tr>\n      <th>2</th>\n      <td>00013b17ad220c46</td>\n      <td>-1</td>\n      <td>-1</td>\n      <td>-1</td>\n      <td>-1</td>\n      <td>-1</td>\n      <td>-1</td>\n    </tr>\n    <tr>\n      <th>3</th>\n      <td>00017563c3f7919a</td>\n      <td>-1</td>\n      <td>-1</td>\n      <td>-1</td>\n      <td>-1</td>\n      <td>-1</td>\n      <td>-1</td>\n    </tr>\n    <tr>\n      <th>4</th>\n      <td>00017695ad8997eb</td>\n      <td>-1</td>\n      <td>-1</td>\n      <td>-1</td>\n      <td>-1</td>\n      <td>-1</td>\n      <td>-1</td>\n    </tr>\n  </tbody>\n</table>\n</div>"
     },
     "metadata": {},
     "execution_count": 31
    }
   ],
   "source": [
    "test_labels.head()"
   ]
  },
  {
   "cell_type": "code",
   "execution_count": 32,
   "metadata": {
    "execution": {
     "iopub.execute_input": "2021-03-12T15:11:18.719553Z",
     "iopub.status.busy": "2021-03-12T15:11:18.718990Z",
     "iopub.status.idle": "2021-03-12T15:11:18.729864Z",
     "shell.execute_reply": "2021-03-12T15:11:18.729160Z"
    },
    "papermill": {
     "duration": 0.042651,
     "end_time": "2021-03-12T15:11:18.729980",
     "exception": false,
     "start_time": "2021-03-12T15:11:18.687329",
     "status": "completed"
    },
    "tags": []
   },
   "outputs": [],
   "source": [
    "df = train.drop(columns=['id'], axis=1)"
   ]
  },
  {
   "cell_type": "markdown",
   "metadata": {
    "papermill": {
     "duration": 0.028465,
     "end_time": "2021-03-12T15:11:18.786264",
     "exception": false,
     "start_time": "2021-03-12T15:11:18.757799",
     "status": "completed"
    },
    "tags": []
   },
   "source": [
    "# Preprocessing"
   ]
  },
  {
   "cell_type": "markdown",
   "metadata": {
    "papermill": {
     "duration": 0.027376,
     "end_time": "2021-03-12T15:11:18.841945",
     "exception": false,
     "start_time": "2021-03-12T15:11:18.814569",
     "status": "completed"
    },
    "tags": []
   },
   "source": [
    "## Cleaning"
   ]
  },
  {
   "cell_type": "code",
   "execution_count": 33,
   "metadata": {
    "execution": {
     "iopub.execute_input": "2021-03-12T15:11:18.915308Z",
     "iopub.status.busy": "2021-03-12T15:11:18.914752Z",
     "iopub.status.idle": "2021-03-12T15:11:18.918211Z",
     "shell.execute_reply": "2021-03-12T15:11:18.918763Z"
    },
    "papermill": {
     "duration": 0.037342,
     "end_time": "2021-03-12T15:11:18.918920",
     "exception": false,
     "start_time": "2021-03-12T15:11:18.881578",
     "status": "completed"
    },
    "tags": []
   },
   "outputs": [],
   "source": [
    "def clean_comment(comment):\n",
    "    # Removing the @\n",
    "    comment = re.sub(r\"@[A-Za-z0-9]+\", ' ', comment)\n",
    "    # Removing the URL links\n",
    "    comment = re.sub(r\"https?://[A-Za-z0-9./]+\", ' ', comment)\n",
    "    # Keeping only letters\n",
    "    comment = re.sub(r\"[^a-zA-Z.!?']\", ' ', comment)\n",
    "    # Removing additional whitespaces\n",
    "    comment = re.sub(r\" +\", ' ', comment)\n",
    "    return comment"
   ]
  },
  {
   "cell_type": "code",
   "execution_count": 34,
   "metadata": {
    "execution": {
     "iopub.execute_input": "2021-03-12T15:11:18.982293Z",
     "iopub.status.busy": "2021-03-12T15:11:18.981797Z",
     "iopub.status.idle": "2021-03-12T15:11:28.292147Z",
     "shell.execute_reply": "2021-03-12T15:11:28.291536Z"
    },
    "papermill": {
     "duration": 9.345353,
     "end_time": "2021-03-12T15:11:28.292327",
     "exception": false,
     "start_time": "2021-03-12T15:11:18.946974",
     "status": "completed"
    },
    "tags": []
   },
   "outputs": [],
   "source": [
    "df['comment_text'] = df['comment_text'].apply(lambda x: clean_comment(x))"
   ]
  },
  {
   "cell_type": "code",
   "execution_count": 35,
   "metadata": {
    "execution": {
     "iopub.execute_input": "2021-03-12T15:11:28.386192Z",
     "iopub.status.busy": "2021-03-12T15:11:28.385522Z",
     "iopub.status.idle": "2021-03-12T15:11:28.391442Z",
     "shell.execute_reply": "2021-03-12T15:11:28.392301Z"
    },
    "papermill": {
     "duration": 0.05993,
     "end_time": "2021-03-12T15:11:28.392497",
     "exception": false,
     "start_time": "2021-03-12T15:11:28.332567",
     "status": "completed"
    },
    "tags": []
   },
   "outputs": [
    {
     "output_type": "execute_result",
     "data": {
      "text/plain": [
       "                                        comment_text  toxic  severe_toxic  \\\n",
       "0  Explanation Why the edits made under my userna...      0             0   \n",
       "1  D'aww! He matches this background colour I'm s...      0             0   \n",
       "2  Hey man I'm really not trying to edit war. It'...      0             0   \n",
       "3   More I can't make any real suggestions on imp...      0             0   \n",
       "4  You sir are my hero. Any chance you remember w...      0             0   \n",
       "\n",
       "   obscene  threat  insult  identity_hate  \n",
       "0        0       0       0              0  \n",
       "1        0       0       0              0  \n",
       "2        0       0       0              0  \n",
       "3        0       0       0              0  \n",
       "4        0       0       0              0  "
      ],
      "text/html": "<div>\n<style scoped>\n    .dataframe tbody tr th:only-of-type {\n        vertical-align: middle;\n    }\n\n    .dataframe tbody tr th {\n        vertical-align: top;\n    }\n\n    .dataframe thead th {\n        text-align: right;\n    }\n</style>\n<table border=\"1\" class=\"dataframe\">\n  <thead>\n    <tr style=\"text-align: right;\">\n      <th></th>\n      <th>comment_text</th>\n      <th>toxic</th>\n      <th>severe_toxic</th>\n      <th>obscene</th>\n      <th>threat</th>\n      <th>insult</th>\n      <th>identity_hate</th>\n    </tr>\n  </thead>\n  <tbody>\n    <tr>\n      <th>0</th>\n      <td>Explanation Why the edits made under my userna...</td>\n      <td>0</td>\n      <td>0</td>\n      <td>0</td>\n      <td>0</td>\n      <td>0</td>\n      <td>0</td>\n    </tr>\n    <tr>\n      <th>1</th>\n      <td>D'aww! He matches this background colour I'm s...</td>\n      <td>0</td>\n      <td>0</td>\n      <td>0</td>\n      <td>0</td>\n      <td>0</td>\n      <td>0</td>\n    </tr>\n    <tr>\n      <th>2</th>\n      <td>Hey man I'm really not trying to edit war. It'...</td>\n      <td>0</td>\n      <td>0</td>\n      <td>0</td>\n      <td>0</td>\n      <td>0</td>\n      <td>0</td>\n    </tr>\n    <tr>\n      <th>3</th>\n      <td>More I can't make any real suggestions on imp...</td>\n      <td>0</td>\n      <td>0</td>\n      <td>0</td>\n      <td>0</td>\n      <td>0</td>\n      <td>0</td>\n    </tr>\n    <tr>\n      <th>4</th>\n      <td>You sir are my hero. Any chance you remember w...</td>\n      <td>0</td>\n      <td>0</td>\n      <td>0</td>\n      <td>0</td>\n      <td>0</td>\n      <td>0</td>\n    </tr>\n  </tbody>\n</table>\n</div>"
     },
     "metadata": {},
     "execution_count": 35
    }
   ],
   "source": [
    "df.head()"
   ]
  },
  {
   "cell_type": "code",
   "execution_count": 36,
   "metadata": {
    "execution": {
     "iopub.execute_input": "2021-03-12T15:11:28.490133Z",
     "iopub.status.busy": "2021-03-12T15:11:28.489204Z",
     "iopub.status.idle": "2021-03-12T15:11:28.493096Z",
     "shell.execute_reply": "2021-03-12T15:11:28.493954Z"
    },
    "papermill": {
     "duration": 0.058032,
     "end_time": "2021-03-12T15:11:28.494132",
     "exception": false,
     "start_time": "2021-03-12T15:11:28.436100",
     "status": "completed"
    },
    "tags": []
   },
   "outputs": [],
   "source": [
    "data_clean = df.comment_text.values\n",
    "data_labels = df.drop(columns=['comment_text'],axis=1).values"
   ]
  },
  {
   "cell_type": "markdown",
   "metadata": {
    "papermill": {
     "duration": 0.054044,
     "end_time": "2021-03-12T15:11:28.594977",
     "exception": false,
     "start_time": "2021-03-12T15:11:28.540933",
     "status": "completed"
    },
    "tags": []
   },
   "source": [
    "## Tokenization"
   ]
  },
  {
   "cell_type": "code",
   "execution_count": 48,
   "metadata": {
    "execution": {
     "iopub.execute_input": "2021-03-12T15:11:28.657959Z",
     "iopub.status.busy": "2021-03-12T15:11:28.657235Z",
     "iopub.status.idle": "2021-03-12T15:11:46.353286Z",
     "shell.execute_reply": "2021-03-12T15:11:46.352477Z"
    },
    "papermill": {
     "duration": 17.729559,
     "end_time": "2021-03-12T15:11:46.353501",
     "exception": false,
     "start_time": "2021-03-12T15:11:28.623942",
     "status": "completed"
    },
    "tags": []
   },
   "outputs": [
    {
     "output_type": "error",
     "ename": "AttributeError",
     "evalue": "module 'bert.tokenization' has no attribute 'FullTokenizer'",
     "traceback": [
      "\u001b[0;31m---------------------------------------------------------------------------\u001b[0m",
      "\u001b[0;31mAttributeError\u001b[0m                            Traceback (most recent call last)",
      "\u001b[0;32m<ipython-input-48-e5d97c2af59f>\u001b[0m in \u001b[0;36m<module>\u001b[0;34m\u001b[0m\n\u001b[0;32m----> 1\u001b[0;31m \u001b[0mFullTokenizer\u001b[0m \u001b[0;34m=\u001b[0m \u001b[0mtokenization\u001b[0m\u001b[0;34m.\u001b[0m\u001b[0mFullTokenizer\u001b[0m \u001b[0;31m# bert.tok...\u001b[0m\u001b[0;34m\u001b[0m\u001b[0;34m\u001b[0m\u001b[0m\n\u001b[0m\u001b[1;32m      2\u001b[0m \u001b[0;31m#FullTokenizer = AutoTokenizer.from_pretrained('bert-base-cased')\u001b[0m\u001b[0;34m\u001b[0m\u001b[0;34m\u001b[0m\u001b[0;34m\u001b[0m\u001b[0m\n\u001b[1;32m      3\u001b[0m bert_layer = hub.KerasLayer(\"https://tfhub.dev/tensorflow/bert_en_uncased_L-12_H-768_A-12/1\",\n\u001b[1;32m      4\u001b[0m                             trainable=False)\n\u001b[1;32m      5\u001b[0m \u001b[0mvocab_file\u001b[0m \u001b[0;34m=\u001b[0m \u001b[0mbert_layer\u001b[0m\u001b[0;34m.\u001b[0m\u001b[0mresolved_object\u001b[0m\u001b[0;34m.\u001b[0m\u001b[0mvocab_file\u001b[0m\u001b[0;34m.\u001b[0m\u001b[0masset_path\u001b[0m\u001b[0;34m.\u001b[0m\u001b[0mnumpy\u001b[0m\u001b[0;34m(\u001b[0m\u001b[0;34m)\u001b[0m\u001b[0;34m\u001b[0m\u001b[0;34m\u001b[0m\u001b[0m\n",
      "\u001b[0;31mAttributeError\u001b[0m: module 'bert.tokenization' has no attribute 'FullTokenizer'"
     ]
    }
   ],
   "source": [
    "FullTokenizer = tokenization.FullTokenizer # bert.tok...\n",
    "#FullTokenizer = AutoTokenizer.from_pretrained('bert-base-cased')\n",
    "bert_layer = hub.KerasLayer(\"https://tfhub.dev/tensorflow/bert_en_uncased_L-12_H-768_A-12/1\",\n",
    "                            trainable=False)\n",
    "vocab_file = bert_layer.resolved_object.vocab_file.asset_path.numpy()\n",
    "do_lower_case = bert_layer.resolved_object.do_lower_case.numpy()\n",
    "tokenizer = FullTokenizer(vocab_file, do_lower_case)"
   ]
  },
  {
   "cell_type": "code",
   "execution_count": 18,
   "metadata": {
    "execution": {
     "iopub.execute_input": "2021-03-12T15:11:46.415594Z",
     "iopub.status.busy": "2021-03-12T15:11:46.415025Z",
     "iopub.status.idle": "2021-03-12T15:11:46.419045Z",
     "shell.execute_reply": "2021-03-12T15:11:46.418618Z"
    },
    "papermill": {
     "duration": 0.036496,
     "end_time": "2021-03-12T15:11:46.419168",
     "exception": false,
     "start_time": "2021-03-12T15:11:46.382672",
     "status": "completed"
    },
    "tags": []
   },
   "outputs": [],
   "source": [
    "def encode_sentence(sent):\n",
    "    return [\"[CLS]\"] + tokenizer.tokenize(sent)[:510] + [\"[SEP]\"]"
   ]
  },
  {
   "cell_type": "code",
   "execution_count": 19,
   "metadata": {
    "execution": {
     "iopub.execute_input": "2021-03-12T15:11:46.499800Z",
     "iopub.status.busy": "2021-03-12T15:11:46.494704Z",
     "iopub.status.idle": "2021-03-12T15:15:49.481433Z",
     "shell.execute_reply": "2021-03-12T15:15:49.480414Z"
    },
    "papermill": {
     "duration": 243.033773,
     "end_time": "2021-03-12T15:15:49.481587",
     "exception": false,
     "start_time": "2021-03-12T15:11:46.447814",
     "status": "completed"
    },
    "tags": []
   },
   "outputs": [],
   "source": [
    "data_inputs = [encode_sentence(sentence) for sentence in data_clean]"
   ]
  },
  {
   "cell_type": "markdown",
   "metadata": {
    "papermill": {
     "duration": 0.028944,
     "end_time": "2021-03-12T15:15:49.540292",
     "exception": false,
     "start_time": "2021-03-12T15:15:49.511348",
     "status": "completed"
    },
    "tags": []
   },
   "source": [
    "## Dataset Creation"
   ]
  },
  {
   "cell_type": "code",
   "execution_count": 20,
   "metadata": {
    "execution": {
     "iopub.execute_input": "2021-03-12T15:15:49.605014Z",
     "iopub.status.busy": "2021-03-12T15:15:49.604131Z",
     "iopub.status.idle": "2021-03-12T15:15:49.605892Z",
     "shell.execute_reply": "2021-03-12T15:15:49.606310Z"
    },
    "papermill": {
     "duration": 0.03695,
     "end_time": "2021-03-12T15:15:49.606459",
     "exception": false,
     "start_time": "2021-03-12T15:15:49.569509",
     "status": "completed"
    },
    "tags": []
   },
   "outputs": [],
   "source": [
    "def get_ids(tokens):\n",
    "    return tokenizer.convert_tokens_to_ids(tokens)\n",
    "\n",
    "def get_mask(tokens):\n",
    "    return np.char.not_equal(tokens, \"[PAD]\").astype(int)\n",
    "\n",
    "def get_segments(tokens):\n",
    "    seg_ids = []\n",
    "    current_seg_id = 0\n",
    "    for tok in tokens:\n",
    "        seg_ids.append(current_seg_id)\n",
    "        if tok == \"[SEP]\":\n",
    "            current_seg_id = 1-current_seg_id # turns 1 into 0 and vice versa\n",
    "    return seg_ids"
   ]
  },
  {
   "cell_type": "code",
   "execution_count": 21,
   "metadata": {
    "execution": {
     "iopub.execute_input": "2021-03-12T15:15:49.718616Z",
     "iopub.status.busy": "2021-03-12T15:15:49.702919Z",
     "iopub.status.idle": "2021-03-12T15:16:00.807418Z",
     "shell.execute_reply": "2021-03-12T15:16:00.806945Z"
    },
    "papermill": {
     "duration": 11.172068,
     "end_time": "2021-03-12T15:16:00.807554",
     "exception": false,
     "start_time": "2021-03-12T15:15:49.635486",
     "status": "completed"
    },
    "tags": []
   },
   "outputs": [],
   "source": [
    "data_with_len = [[sent, data_labels[i], len(sent)]\n",
    "                 for i, sent in enumerate(data_inputs)]\n",
    "random.shuffle(data_with_len)\n",
    "data_with_len.sort(key=lambda x: x[2])\n",
    "sorted_all = [([get_ids(sent_lab[0]),\n",
    "                get_mask(sent_lab[0]),\n",
    "                get_segments(sent_lab[0])],\n",
    "               sent_lab[1])\n",
    "              for sent_lab in data_with_len if sent_lab[2] > 7]"
   ]
  },
  {
   "cell_type": "code",
   "execution_count": 22,
   "metadata": {
    "execution": {
     "iopub.execute_input": "2021-03-12T15:16:00.872991Z",
     "iopub.status.busy": "2021-03-12T15:16:00.872493Z",
     "iopub.status.idle": "2021-03-12T15:16:00.900391Z",
     "shell.execute_reply": "2021-03-12T15:16:00.899918Z"
    },
    "papermill": {
     "duration": 0.063239,
     "end_time": "2021-03-12T15:16:00.900511",
     "exception": false,
     "start_time": "2021-03-12T15:16:00.837272",
     "status": "completed"
    },
    "tags": []
   },
   "outputs": [],
   "source": [
    "# A list is a type of iterator so it can be used as generator for a dataset\n",
    "all_dataset = tf.data.Dataset.from_generator(lambda: sorted_all,\n",
    "                                             output_types=(tf.int32, tf.int32))"
   ]
  },
  {
   "cell_type": "code",
   "execution_count": 23,
   "metadata": {
    "execution": {
     "iopub.execute_input": "2021-03-12T15:16:00.966782Z",
     "iopub.status.busy": "2021-03-12T15:16:00.966142Z",
     "iopub.status.idle": "2021-03-12T15:16:00.969156Z",
     "shell.execute_reply": "2021-03-12T15:16:00.968643Z"
    },
    "papermill": {
     "duration": 0.038992,
     "end_time": "2021-03-12T15:16:00.969275",
     "exception": false,
     "start_time": "2021-03-12T15:16:00.930283",
     "status": "completed"
    },
    "tags": []
   },
   "outputs": [],
   "source": [
    "BATCH_SIZE = 32\n",
    "all_batched = all_dataset.padded_batch(BATCH_SIZE,\n",
    "                                       padded_shapes=((3, None), (6)),\n",
    "                                       padding_values=(0, 0))"
   ]
  },
  {
   "cell_type": "code",
   "execution_count": 24,
   "metadata": {
    "execution": {
     "iopub.execute_input": "2021-03-12T15:16:01.033309Z",
     "iopub.status.busy": "2021-03-12T15:16:01.032832Z",
     "iopub.status.idle": "2021-03-12T15:16:01.038983Z",
     "shell.execute_reply": "2021-03-12T15:16:01.038488Z"
    },
    "papermill": {
     "duration": 0.040171,
     "end_time": "2021-03-12T15:16:01.039108",
     "exception": false,
     "start_time": "2021-03-12T15:16:00.998937",
     "status": "completed"
    },
    "tags": []
   },
   "outputs": [],
   "source": [
    "NB_BATCHES = math.ceil(len(sorted_all) / BATCH_SIZE)\n",
    "NB_BATCHES_TEST = NB_BATCHES // 10\n",
    "all_batched.shuffle(NB_BATCHES)\n",
    "test_dataset = all_batched.take(NB_BATCHES_TEST)\n",
    "train_dataset = all_batched.skip(NB_BATCHES_TEST)"
   ]
  },
  {
   "cell_type": "markdown",
   "metadata": {
    "papermill": {
     "duration": 0.029352,
     "end_time": "2021-03-12T15:16:01.097949",
     "exception": false,
     "start_time": "2021-03-12T15:16:01.068597",
     "status": "completed"
    },
    "tags": []
   },
   "source": [
    "# Model Building"
   ]
  },
  {
   "cell_type": "code",
   "execution_count": 25,
   "metadata": {
    "execution": {
     "iopub.execute_input": "2021-03-12T15:16:01.170255Z",
     "iopub.status.busy": "2021-03-12T15:16:01.169415Z",
     "iopub.status.idle": "2021-03-12T15:16:01.171902Z",
     "shell.execute_reply": "2021-03-12T15:16:01.172271Z"
    },
    "papermill": {
     "duration": 0.044344,
     "end_time": "2021-03-12T15:16:01.172428",
     "exception": false,
     "start_time": "2021-03-12T15:16:01.128084",
     "status": "completed"
    },
    "tags": []
   },
   "outputs": [],
   "source": [
    "class DCNNBERTEmbedding(tf.keras.Model):\n",
    "    \n",
    "    def __init__(self,\n",
    "                 nb_filters=50,\n",
    "                 FFN_units=512,\n",
    "                 nb_classes=6,\n",
    "                 dropout_rate=0.1,\n",
    "                 name=\"dcnn\"):\n",
    "        super(DCNNBERTEmbedding, self).__init__(name=name)\n",
    "        \n",
    "        self.bert_layer = hub.KerasLayer(\n",
    "            \"https://tfhub.dev/tensorflow/bert_en_uncased_L-12_H-768_A-12/1\",\n",
    "            trainable=False)\n",
    "\n",
    "        self.bigram = layers.Conv1D(filters=nb_filters,\n",
    "                                    kernel_size=2,\n",
    "                                    padding=\"valid\",\n",
    "                                    activation=\"relu\")\n",
    "        self.trigram = layers.Conv1D(filters=nb_filters,\n",
    "                                     kernel_size=3,\n",
    "                                     padding=\"valid\",\n",
    "                                     activation=\"relu\")\n",
    "        self.fourgram = layers.Conv1D(filters=nb_filters,\n",
    "                                      kernel_size=4,\n",
    "                                      padding=\"valid\",\n",
    "                                      activation=\"relu\")\n",
    "        self.pool = layers.GlobalMaxPool1D()\n",
    "        self.dense_1 = layers.Dense(units=FFN_units, activation=\"relu\")\n",
    "        self.dropout = layers.Dropout(rate=dropout_rate)\n",
    "#        if nb_classes == 2:\n",
    "        self.last_dense = layers.Dense(units=nb_classes,\n",
    "                                           activation=\"sigmoid\")\n",
    "#        else:\n",
    "#            self.last_dense = layers.Dense(units=nb_classes,\n",
    "#                                           activation=\"softmax\")\n",
    "    \n",
    "    def embed_with_bert(self, all_tokens):\n",
    "        _, embs = self.bert_layer([all_tokens[:, 0, :],\n",
    "                                   all_tokens[:, 1, :],\n",
    "                                   all_tokens[:, 2, :]])\n",
    "        return embs\n",
    "\n",
    "    def call(self, inputs, training):\n",
    "        x = self.embed_with_bert(inputs)\n",
    "\n",
    "        print(x.shape)\n",
    "\n",
    "        x_1 = self.bigram(x)\n",
    "        x_1 = self.pool(x_1)\n",
    "        x_2 = self.trigram(x)\n",
    "        x_2 = self.pool(x_2)\n",
    "        x_3 = self.fourgram(x)\n",
    "        x_3 = self.pool(x_3)\n",
    "        \n",
    "        merged = tf.concat([x_1, x_2, x_3], axis=-1) # (batch_size, 3 * nb_filters)\n",
    "        merged = self.dense_1(merged)\n",
    "        merged = self.dropout(merged, training)\n",
    "        output = self.last_dense(merged)\n",
    "        \n",
    "        return output"
   ]
  },
  {
   "cell_type": "markdown",
   "metadata": {
    "papermill": {
     "duration": 0.029838,
     "end_time": "2021-03-12T15:16:01.232292",
     "exception": false,
     "start_time": "2021-03-12T15:16:01.202454",
     "status": "completed"
    },
    "tags": []
   },
   "source": [
    "# Model Training"
   ]
  },
  {
   "cell_type": "code",
   "execution_count": 26,
   "metadata": {
    "execution": {
     "iopub.execute_input": "2021-03-12T15:16:01.296251Z",
     "iopub.status.busy": "2021-03-12T15:16:01.295533Z",
     "iopub.status.idle": "2021-03-12T15:16:01.298356Z",
     "shell.execute_reply": "2021-03-12T15:16:01.297952Z"
    },
    "papermill": {
     "duration": 0.03662,
     "end_time": "2021-03-12T15:16:01.298482",
     "exception": false,
     "start_time": "2021-03-12T15:16:01.261862",
     "status": "completed"
    },
    "tags": []
   },
   "outputs": [],
   "source": [
    "NB_FILTERS = 100\n",
    "FFN_UNITS = 256\n",
    "NB_CLASSES = 6\n",
    "\n",
    "DROPOUT_RATE = 0.5\n",
    "\n",
    "BATCH_SIZE = 32\n",
    "NB_EPOCHS = 2"
   ]
  },
  {
   "cell_type": "code",
   "execution_count": 27,
   "metadata": {
    "execution": {
     "iopub.execute_input": "2021-03-12T15:16:01.363395Z",
     "iopub.status.busy": "2021-03-12T15:16:01.362619Z",
     "iopub.status.idle": "2021-03-12T15:16:07.145278Z",
     "shell.execute_reply": "2021-03-12T15:16:07.144234Z"
    },
    "papermill": {
     "duration": 5.817708,
     "end_time": "2021-03-12T15:16:07.145443",
     "exception": false,
     "start_time": "2021-03-12T15:16:01.327735",
     "status": "completed"
    },
    "tags": []
   },
   "outputs": [],
   "source": [
    "Dcnn = DCNNBERTEmbedding(nb_filters=NB_FILTERS,\n",
    "                         FFN_units=FFN_UNITS,\n",
    "                         nb_classes=NB_CLASSES,\n",
    "                         dropout_rate=DROPOUT_RATE)"
   ]
  },
  {
   "cell_type": "code",
   "execution_count": 28,
   "metadata": {
    "execution": {
     "iopub.execute_input": "2021-03-12T15:16:07.217035Z",
     "iopub.status.busy": "2021-03-12T15:16:07.216513Z",
     "iopub.status.idle": "2021-03-12T15:16:07.224147Z",
     "shell.execute_reply": "2021-03-12T15:16:07.223616Z"
    },
    "papermill": {
     "duration": 0.047577,
     "end_time": "2021-03-12T15:16:07.224258",
     "exception": false,
     "start_time": "2021-03-12T15:16:07.176681",
     "status": "completed"
    },
    "tags": []
   },
   "outputs": [],
   "source": [
    "Dcnn.compile(loss=\"binary_crossentropy\",\n",
    "            optimizer=\"adam\",\n",
    "            metrics=[\"accuracy\"])"
   ]
  },
  {
   "cell_type": "code",
   "execution_count": 29,
   "metadata": {
    "execution": {
     "iopub.execute_input": "2021-03-12T15:16:07.290173Z",
     "iopub.status.busy": "2021-03-12T15:16:07.289635Z",
     "iopub.status.idle": "2021-03-12T15:16:07.292960Z",
     "shell.execute_reply": "2021-03-12T15:16:07.292536Z"
    },
    "papermill": {
     "duration": 0.038445,
     "end_time": "2021-03-12T15:16:07.293067",
     "exception": false,
     "start_time": "2021-03-12T15:16:07.254622",
     "status": "completed"
    },
    "tags": []
   },
   "outputs": [],
   "source": [
    "checkpoint_path = \"./\"\n",
    "\n",
    "ckpt = tf.train.Checkpoint(Dcnn=Dcnn)\n",
    "\n",
    "ckpt_manager = tf.train.CheckpointManager(ckpt, checkpoint_path, max_to_keep=1)\n",
    "\n",
    "if ckpt_manager.latest_checkpoint:\n",
    "    ckpt.restore(ckpt_manager.latest_checkpoint)\n",
    "    print(\"Latest checkpoint restored!!\")"
   ]
  },
  {
   "cell_type": "code",
   "execution_count": 30,
   "metadata": {
    "execution": {
     "iopub.execute_input": "2021-03-12T15:16:07.358572Z",
     "iopub.status.busy": "2021-03-12T15:16:07.358035Z",
     "iopub.status.idle": "2021-03-12T15:16:07.361814Z",
     "shell.execute_reply": "2021-03-12T15:16:07.361299Z"
    },
    "papermill": {
     "duration": 0.03829,
     "end_time": "2021-03-12T15:16:07.361938",
     "exception": false,
     "start_time": "2021-03-12T15:16:07.323648",
     "status": "completed"
    },
    "tags": []
   },
   "outputs": [],
   "source": [
    "class MyCustomCallback(tf.keras.callbacks.Callback):\n",
    "\n",
    "    def on_epoch_end(self, epoch, logs=None):\n",
    "        ckpt_manager.save()\n",
    "        print(\"Checkpoint saved at {}.\".format(checkpoint_path))"
   ]
  },
  {
   "cell_type": "code",
   "execution_count": 31,
   "metadata": {
    "execution": {
     "iopub.execute_input": "2021-03-12T15:16:07.427423Z",
     "iopub.status.busy": "2021-03-12T15:16:07.426870Z",
     "iopub.status.idle": "2021-03-12T15:35:15.616251Z",
     "shell.execute_reply": "2021-03-12T15:35:15.616696Z"
    },
    "papermill": {
     "duration": 1148.224172,
     "end_time": "2021-03-12T15:35:15.616883",
     "exception": false,
     "start_time": "2021-03-12T15:16:07.392711",
     "status": "completed"
    },
    "tags": []
   },
   "outputs": [
    {
     "name": "stdout",
     "output_type": "stream",
     "text": [
      "Epoch 1/2\n",
      "(None, None, 768)\n",
      "(None, None, 768)\n",
      "4399/4399 [==============================] - 589s 130ms/step - loss: 0.0708 - accuracy: 0.8316\n",
      "Checkpoint saved at ./.\n",
      "Epoch 2/2\n",
      "4399/4399 [==============================] - 557s 126ms/step - loss: 0.0511 - accuracy: 0.9461\n",
      "Checkpoint saved at ./.\n"
     ]
    },
    {
     "data": {
      "text/plain": [
       "<tensorflow.python.keras.callbacks.History at 0x7f0d92b79590>"
      ]
     },
     "execution_count": 31,
     "metadata": {},
     "output_type": "execute_result"
    }
   ],
   "source": [
    "Dcnn.fit(train_dataset,\n",
    "         epochs=NB_EPOCHS,\n",
    "         callbacks=[MyCustomCallback()])"
   ]
  },
  {
   "cell_type": "code",
   "execution_count": 32,
   "metadata": {
    "execution": {
     "iopub.execute_input": "2021-03-12T15:35:19.916669Z",
     "iopub.status.busy": "2021-03-12T15:35:19.915873Z",
     "iopub.status.idle": "2021-03-12T15:35:32.852506Z",
     "shell.execute_reply": "2021-03-12T15:35:32.849358Z"
    },
    "papermill": {
     "duration": 15.040225,
     "end_time": "2021-03-12T15:35:32.852694",
     "exception": false,
     "start_time": "2021-03-12T15:35:17.812469",
     "status": "completed"
    },
    "tags": []
   },
   "outputs": [
    {
     "name": "stdout",
     "output_type": "stream",
     "text": [
      "(None, None, 768)\n",
      "(None, None, 768)\n",
      "(None, None, 768)\n",
      "(None, None, 768)\n",
      "(None, None, 768)\n",
      "(None, None, 768)\n",
      "(None, None, 768)\n"
     ]
    }
   ],
   "source": [
    "Dcnn.save('Bert_Dcnn_model1',save_format='tf')"
   ]
  },
  {
   "cell_type": "code",
   "execution_count": 33,
   "metadata": {
    "execution": {
     "iopub.execute_input": "2021-03-12T15:35:37.233396Z",
     "iopub.status.busy": "2021-03-12T15:35:37.232125Z",
     "iopub.status.idle": "2021-03-12T15:35:47.201449Z",
     "shell.execute_reply": "2021-03-12T15:35:47.177779Z"
    },
    "papermill": {
     "duration": 12.068433,
     "end_time": "2021-03-12T15:35:47.201621",
     "exception": false,
     "start_time": "2021-03-12T15:35:35.133188",
     "status": "completed"
    },
    "tags": []
   },
   "outputs": [],
   "source": [
    "new_model = load_model('Bert_Dcnn_model1')"
   ]
  },
  {
   "cell_type": "markdown",
   "metadata": {
    "papermill": {
     "duration": 2.308743,
     "end_time": "2021-03-12T15:35:51.733440",
     "exception": false,
     "start_time": "2021-03-12T15:35:49.424697",
     "status": "completed"
    },
    "tags": []
   },
   "source": [
    "# Evaluation"
   ]
  },
  {
   "cell_type": "code",
   "execution_count": 34,
   "metadata": {
    "execution": {
     "iopub.execute_input": "2021-03-12T15:35:55.704040Z",
     "iopub.status.busy": "2021-03-12T15:35:55.703239Z",
     "iopub.status.idle": "2021-03-12T15:36:09.041489Z",
     "shell.execute_reply": "2021-03-12T15:36:09.040625Z"
    },
    "papermill": {
     "duration": 15.341792,
     "end_time": "2021-03-12T15:36:09.041620",
     "exception": false,
     "start_time": "2021-03-12T15:35:53.699828",
     "status": "completed"
    },
    "tags": []
   },
   "outputs": [
    {
     "name": "stdout",
     "output_type": "stream",
     "text": [
      "(None, None, 768)\n",
      "488/488 [==============================] - 13s 24ms/step - loss: 0.1241 - accuracy: 0.9891\n",
      "[0.12407687306404114, 0.9891137480735779]\n"
     ]
    }
   ],
   "source": [
    "results = Dcnn.evaluate(test_dataset)\n",
    "print(results)"
   ]
  }
 ],
 "metadata": {
  "kernelspec": {
   "name": "python3",
   "display_name": "Python 3.8.7 64-bit",
   "metadata": {
    "interpreter": {
     "hash": "082e9a3bcad0a290d0001e938aa60b99250c6c2ef33a923c00b70f9826caf4b7"
    }
   }
  },
  "language_info": {
   "codemirror_mode": {
    "name": "ipython",
    "version": 3
   },
   "file_extension": ".py",
   "mimetype": "text/x-python",
   "name": "python",
   "nbconvert_exporter": "python",
   "pygments_lexer": "ipython3",
   "version": "3.8.7"
  },
  "papermill": {
   "default_parameters": {},
   "duration": 1532.922948,
   "end_time": "2021-03-12T15:36:17.879206",
   "environment_variables": {},
   "exception": null,
   "input_path": "__notebook__.ipynb",
   "output_path": "__notebook__.ipynb",
   "parameters": {},
   "start_time": "2021-03-12T15:10:44.956258",
   "version": "2.2.2"
  }
 },
 "nbformat": 4,
 "nbformat_minor": 4
}